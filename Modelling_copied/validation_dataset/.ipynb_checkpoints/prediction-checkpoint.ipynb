{
 "cells": [
  {
   "cell_type": "code",
   "execution_count": 1,
   "metadata": {},
   "outputs": [
    {
     "name": "stdout",
     "output_type": "stream",
     "text": [
      "fcntl not avaiable on Windows.\n",
      "resource not available on Windows.\n"
     ]
    }
   ],
   "source": [
    "import pandas as pd\n",
    "import numpy as np\n",
    "import joblib\n",
    "import scipy\n",
    "from analyze_snar.extraction import extract_dataframe, add_solvent_descriptors"
   ]
  },
  {
   "cell_type": "markdown",
   "metadata": {},
   "source": [
    "#### Load calculated data and add solvent descriptors"
   ]
  },
  {
   "cell_type": "code",
   "execution_count": 2,
   "metadata": {},
   "outputs": [
    {
     "name": "stdout",
     "output_type": "stream",
     "text": [
      "Duplicated reactions: 0\n",
      "Dropped failed TS calculations: 3\n"
     ]
    }
   ],
   "source": [
    "df = extract_dataframe(\"validation_2020_07_04/db\", cluster_nu=True, cluster_ts=True, or_lg_correction=True)\n",
    "print(\"Duplicated reactions:\", df.duplicated([\"reaction_smiles\", \"solvent\", \"temperature\"]).sum())\n",
    "df.drop_duplicates([\"reaction_smiles\", \"solvent\", \"temperature\"], inplace=True)\n",
    "n_before = len(df)\n",
    "df.dropna(inplace=True)\n",
    "print(\"Dropped failed TS calculations:\", n_before - len(df))\n",
    "df = add_solvent_descriptors(df, \"../solvents/solvents.csv\")"
   ]
  },
  {
   "cell_type": "code",
   "execution_count": 3,
   "metadata": {},
   "outputs": [],
   "source": [
    "X = df.drop([\"flat_pes\", \"rds\", \"reaction_smiles\", \"reaction_smiles_orig\", \"reaction_energy\",\n",
    "             \"concerted\", \"solvent\", \"inchikey_substrate\", \"inchikey_nu\", \"inchikey_lg\", \"inchikey_product\",\n",
    "             \"nu_symbol\", \"lg_symbol\", \"temperature\"], axis=1)"
   ]
  },
  {
   "cell_type": "code",
   "execution_count": 4,
   "metadata": {},
   "outputs": [],
   "source": [
    "X.drop([\"reaction_energy_qh_grimme\", \"reaction_energy_qh_truhlar\", \"p_int_area_central\", \"p_int_area_nu\"], axis=1, inplace=True)\n",
    "X.drop([\"reaction_enthalpy\", \"activation_enthalpy\"], axis=1, inplace=True)\n",
    "X.drop([\"sasa_central\", \"sasa_nu\"], axis=1, inplace=True)\n",
    "X.drop([\"bo_diff_nu\", \"bo_diff_lg\", \"nu_formed\", \"lg_broken\"], axis=1, inplace=True)"
   ]
  },
  {
   "cell_type": "code",
   "execution_count": 5,
   "metadata": {},
   "outputs": [],
   "source": [
    "X.drop([\"activation_energy\"], axis=1, inplace=True)\n",
    "X[\"activation_energy\"] = X[\"activation_energy_qh_grimme\"]"
   ]
  },
  {
   "cell_type": "code",
   "execution_count": 6,
   "metadata": {},
   "outputs": [],
   "source": [
    "X.drop([\"activation_energy_qh_truhlar\", \"activation_energy_qh_grimme\"], axis=1, inplace=True)"
   ]
  },
  {
   "cell_type": "markdown",
   "metadata": {},
   "source": [
    "### Read reaction data"
   ]
  },
  {
   "cell_type": "code",
   "execution_count": 7,
   "metadata": {},
   "outputs": [],
   "source": [
    "reactions_df = pd.read_csv(\"competing_reactions.csv\", index_col=0)\n",
    "reaction_indices = np.load(\"reaction_ids.npy\")\n",
    "competing_reactions_df = reactions_df[reactions_df[\"reaction_id\"].isin(reaction_indices)]"
   ]
  },
  {
   "cell_type": "markdown",
   "metadata": {},
   "source": [
    "#### Make predictions"
   ]
  },
  {
   "cell_type": "markdown",
   "metadata": {},
   "source": [
    "Load ML model"
   ]
  },
  {
   "cell_type": "code",
   "execution_count": 8,
   "metadata": {},
   "outputs": [],
   "source": [
    "model = joblib.load(\"../machine_learning/final_model.joblib\")"
   ]
  },
  {
   "cell_type": "code",
   "execution_count": 9,
   "metadata": {},
   "outputs": [],
   "source": [
    "preds = model.predict(X)\n",
    "_, std = model.regressor_.predict(X, return_std=True)\n",
    "std *= model.transformer_.scale_\n",
    "alpha = 0.05\n",
    "error = std * scipy.stats.norm.interval(1 - alpha)[1]\n",
    "df[\"prediction\"] = preds\n",
    "df[\"std\"] = std"
   ]
  },
  {
   "cell_type": "markdown",
   "metadata": {},
   "source": [
    "#### Check selectivities"
   ]
  },
  {
   "cell_type": "code",
   "execution_count": 10,
   "metadata": {},
   "outputs": [],
   "source": [
    "results_df = pd.DataFrame([], index=reaction_indices, columns=[\"ml\", \"certain\", \"dft\", \"chemo\"])"
   ]
  },
  {
   "cell_type": "code",
   "execution_count": 11,
   "metadata": {},
   "outputs": [],
   "source": [
    "for index in reaction_indices:\n",
    "    reactions = reactions_df[reactions_df[\"reaction_id\"] == index]\n",
    "    hits = reactions[\"reaction_smiles\"].isin(df[\"reaction_smiles_orig\"])\n",
    "    if hits.all():\n",
    "        comp_results = df[df[\"reaction_smiles_orig\"].isin(reactions[\"reaction_smiles\"])]\n",
    "        merged = pd.merge(comp_results[[\"reaction_smiles_orig\", \"activation_energy\", \"prediction\", \"std\"]], reactions[[\"reaction_smiles\", \"major\", \"regio\", \"chemo\"]], left_on='reaction_smiles_orig', right_on='reaction_smiles')\n",
    "        if merged[\"chemo\"].any():\n",
    "            results_df.loc[index][\"chemo\"] = True\n",
    "        else:\n",
    "            results_df.loc[index][\"chemo\"] = False\n",
    "        if merged.sort_values(\"prediction\").iloc[0][\"major\"] == True:\n",
    "            results_df.loc[index][\"ml\"] = True\n",
    "        else:\n",
    "            results_df.loc[index][\"ml\"] = False\n",
    "        norm_1 = scipy.stats.norm(loc=merged.sort_values(\"prediction\").iloc[0][\"prediction\"], scale=merged.sort_values(\"prediction\").iloc[0][\"std\"]**2)\n",
    "        norm_2 = scipy.stats.norm(loc=merged.sort_values(\"prediction\").iloc[1][\"prediction\"], scale=merged.sort_values(\"prediction\").iloc[1][\"std\"]**2)\n",
    "        overlap = scipy.integrate.quad(lambda x: min(norm_1.pdf(x), norm_2.pdf(x)), 0, 50)[0]\n",
    "        if overlap < 0.05:\n",
    "            results_df.loc[index][\"certain\"] = True\n",
    "        else:\n",
    "            results_df.loc[index][\"certain\"] = False\n",
    "            \n",
    "        if merged.sort_values(\"activation_energy\").iloc[0][\"major\"] == True:\n",
    "            results_df.loc[index][\"dft\"] = True\n",
    "        else:\n",
    "            results_df.loc[index][\"dft\"] = False"
   ]
  },
  {
   "cell_type": "markdown",
   "metadata": {},
   "source": [
    "Remove reactions which have failed TS calculations"
   ]
  },
  {
   "cell_type": "code",
   "execution_count": 27,
   "metadata": {},
   "outputs": [],
   "source": [
    "results_df.dropna(axis=0, inplace=True)"
   ]
  },
  {
   "cell_type": "markdown",
   "metadata": {},
   "source": [
    "Count number of chemoselectivity and regioselectivity reactions"
   ]
  },
  {
   "cell_type": "code",
   "execution_count": 28,
   "metadata": {},
   "outputs": [
    {
     "data": {
      "text/plain": [
       "False    66\n",
       "True     31\n",
       "Name: chemo, dtype: int64"
      ]
     },
     "execution_count": 28,
     "metadata": {},
     "output_type": "execute_result"
    }
   ],
   "source": [
    "results_df[\"chemo\"].value_counts()"
   ]
  },
  {
   "cell_type": "markdown",
   "metadata": {},
   "source": [
    "##### DFT performance"
   ]
  },
  {
   "cell_type": "markdown",
   "metadata": {},
   "source": [
    "Get total number of succesful reactions"
   ]
  },
  {
   "cell_type": "code",
   "execution_count": 29,
   "metadata": {},
   "outputs": [
    {
     "data": {
      "text/plain": [
       "True     0.865979\n",
       "False    0.134021\n",
       "Name: dft, dtype: float64"
      ]
     },
     "execution_count": 29,
     "metadata": {},
     "output_type": "execute_result"
    }
   ],
   "source": [
    "results_df[\"dft\"].value_counts(normalize=True)"
   ]
  },
  {
   "cell_type": "markdown",
   "metadata": {},
   "source": [
    "Decompose success rate into regio- and chemoselectivity"
   ]
  },
  {
   "cell_type": "code",
   "execution_count": 30,
   "metadata": {},
   "outputs": [
    {
     "data": {
      "text/plain": [
       "chemo  dft  \n",
       "False  True     0.909091\n",
       "       False    0.090909\n",
       "True   True     0.774194\n",
       "       False    0.225806\n",
       "Name: dft, dtype: float64"
      ]
     },
     "execution_count": 30,
     "metadata": {},
     "output_type": "execute_result"
    }
   ],
   "source": [
    "results_df.groupby(\"chemo\")[\"dft\"].value_counts(normalize=True)"
   ]
  },
  {
   "cell_type": "markdown",
   "metadata": {},
   "source": [
    "##### ML performance"
   ]
  },
  {
   "cell_type": "markdown",
   "metadata": {},
   "source": [
    "Get total number of succesful reactions"
   ]
  },
  {
   "cell_type": "code",
   "execution_count": 31,
   "metadata": {},
   "outputs": [
    {
     "data": {
      "text/plain": [
       "True     0.85567\n",
       "False    0.14433\n",
       "Name: ml, dtype: float64"
      ]
     },
     "execution_count": 31,
     "metadata": {},
     "output_type": "execute_result"
    }
   ],
   "source": [
    "results_df[\"ml\"].value_counts(normalize=True)"
   ]
  },
  {
   "cell_type": "markdown",
   "metadata": {},
   "source": [
    "Decompose success rate into regio- and chemoselectivity"
   ]
  },
  {
   "cell_type": "code",
   "execution_count": 32,
   "metadata": {},
   "outputs": [
    {
     "data": {
      "text/plain": [
       "chemo  ml   \n",
       "False  True     0.848485\n",
       "       False    0.151515\n",
       "True   True     0.870968\n",
       "       False    0.129032\n",
       "Name: ml, dtype: float64"
      ]
     },
     "execution_count": 32,
     "metadata": {},
     "output_type": "execute_result"
    }
   ],
   "source": [
    "results_df.groupby(\"chemo\")[\"ml\"].value_counts(normalize=True)"
   ]
  },
  {
   "cell_type": "markdown",
   "metadata": {},
   "source": [
    "Check how many reactions are predicted with 95% confidence by the ML model"
   ]
  },
  {
   "cell_type": "code",
   "execution_count": 33,
   "metadata": {},
   "outputs": [
    {
     "data": {
      "text/plain": [
       "False    1.0\n",
       "Name: certain, dtype: float64"
      ]
     },
     "execution_count": 33,
     "metadata": {},
     "output_type": "execute_result"
    }
   ],
   "source": [
    "results_df[\"certain\"].value_counts(normalize=True)"
   ]
  },
  {
   "cell_type": "code",
   "execution_count": null,
   "metadata": {},
   "outputs": [],
   "source": []
  }
 ],
 "metadata": {
  "kernelspec": {
   "display_name": "Python [conda env:rdkit-env]",
   "language": "python",
   "name": "conda-env-rdkit-env-py"
  },
  "language_info": {
   "codemirror_mode": {
    "name": "ipython",
    "version": 3
   },
   "file_extension": ".py",
   "mimetype": "text/x-python",
   "name": "python",
   "nbconvert_exporter": "python",
   "pygments_lexer": "ipython3",
   "version": "3.7.7"
  }
 },
 "nbformat": 4,
 "nbformat_minor": 4
}
