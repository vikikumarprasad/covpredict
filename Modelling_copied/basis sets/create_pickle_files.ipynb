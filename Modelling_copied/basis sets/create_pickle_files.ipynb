{
 "cells": [
  {
   "cell_type": "code",
   "execution_count": 2,
   "metadata": {},
   "outputs": [],
   "source": [
    "import re\n",
    "import pickle"
   ]
  },
  {
   "cell_type": "code",
   "execution_count": 3,
   "metadata": {},
   "outputs": [],
   "source": [
    "basis_set_names = [\"def2-svp\", \"def2-svpd\", \"def2-tzvp\", \"def2-tzvpd\"]"
   ]
  },
  {
   "cell_type": "code",
   "execution_count": 5,
   "metadata": {},
   "outputs": [],
   "source": [
    "for name in basis_set_names:\n",
    "    lines = open(\"def2-svp-basis.gbs\").readlines()\n",
    "        \n",
    "    lines = open(f\"{name}-basis.gbs\").readlines()\n",
    "    block = []\n",
    "    basis_dict = {}\n",
    "    counter = 0\n",
    "    for line in lines:\n",
    "        if counter == 0:\n",
    "            element = line.strip().split()[0]\n",
    "        if \"****\" in line:\n",
    "            basis_dict[element] = block\n",
    "            block = []\n",
    "            counter = 0\n",
    "        else:\n",
    "            block.append(line)\n",
    "            counter += 1\n",
    "            \n",
    "    lines = open(f\"{name}-ecp.gbs\").readlines()\n",
    "    block = []\n",
    "    ecp_dict = {}\n",
    "    counter = 0\n",
    "    for line in lines:\n",
    "        if re.match(\"^[A-Z]{1,2}\\s{5}\", line.strip()):\n",
    "            ecp_dict[element] = block\n",
    "            element = line.strip().split()[0].capitalize()\n",
    "            block = []\n",
    "            block.append(line)\n",
    "        else:\n",
    "            block.append(line)\n",
    "            \n",
    "    with open(f\"{name}-basis.pickle\", \"wb\") as file:\n",
    "        pickle.dump(basis_dict, file)\n",
    "    \n",
    "    with open(f\"{name}-ecp.pickle\", \"wb\") as file:\n",
    "        pickle.dump(ecp_dict, file)        "
   ]
  },
  {
   "cell_type": "code",
   "execution_count": null,
   "metadata": {},
   "outputs": [],
   "source": []
  }
 ],
 "metadata": {
  "kernelspec": {
   "display_name": "Python 3",
   "language": "python",
   "name": "python3"
  },
  "language_info": {
   "codemirror_mode": {
    "name": "ipython",
    "version": 3
   },
   "file_extension": ".py",
   "mimetype": "text/x-python",
   "name": "python",
   "nbconvert_exporter": "python",
   "pygments_lexer": "ipython3",
   "version": "3.7.3"
  }
 },
 "nbformat": 4,
 "nbformat_minor": 4
}
