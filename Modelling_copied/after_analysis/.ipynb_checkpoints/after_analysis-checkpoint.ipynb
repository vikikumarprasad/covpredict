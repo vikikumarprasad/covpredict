{
 "cells": [
  {
   "cell_type": "code",
   "execution_count": 1,
   "metadata": {},
   "outputs": [
    {
     "name": "stdout",
     "output_type": "stream",
     "text": [
      "fcntl not avaiable on Windows.\n",
      "resource not available on Windows.\n"
     ]
    }
   ],
   "source": [
    "from predict_snar.smiles import ReactionSmilesProcessor\n",
    "from predict_snar.data import SolventPicker\n",
    "from analyze_snar.extraction import extract_dataframe\n",
    "from rdkit import Chem\n",
    "from rdkit.Chem import AllChem\n",
    "import pandas as pd\n",
    "import numpy as np\n",
    "from joblib import Parallel, delayed"
   ]
  },
  {
   "cell_type": "markdown",
   "metadata": {},
   "source": [
    "Make functions for joblib parallelization"
   ]
  },
  {
   "cell_type": "code",
   "execution_count": 2,
   "metadata": {},
   "outputs": [],
   "source": [
    "def get_influential_solvent(solvent):\n",
    "    sp = SolventPicker()\n",
    "    influential_solvent = sp.get_influential_solvent(solvent)\n",
    "    return influential_solvent"
   ]
  },
  {
   "cell_type": "code",
   "execution_count": 3,
   "metadata": {},
   "outputs": [],
   "source": [
    "def get_solvent_smiles(solvent):\n",
    "    sp = SolventPicker()\n",
    "    influential_solvent = sp.smiles_from_name(solvent)\n",
    "    return influential_solvent    "
   ]
  },
  {
   "cell_type": "code",
   "execution_count": 4,
   "metadata": {},
   "outputs": [],
   "source": [
    "sp = SolventPicker()"
   ]
  },
  {
   "cell_type": "markdown",
   "metadata": {},
   "source": [
    "# Process kinetic database"
   ]
  },
  {
   "cell_type": "code",
   "execution_count": 452,
   "metadata": {},
   "outputs": [],
   "source": [
    "data_df = pd.read_excel(\"../prepare_kinetic_data/kinetic_data_v4.xlsx\")"
   ]
  },
  {
   "cell_type": "code",
   "execution_count": 453,
   "metadata": {},
   "outputs": [],
   "source": [
    "data_rsmps = data_df[\"Reaction_SMILES\"].apply(lambda x: ReactionSmilesProcessor(x))"
   ]
  },
  {
   "cell_type": "code",
   "execution_count": 454,
   "metadata": {},
   "outputs": [],
   "source": [
    "data_solvents = Parallel(n_jobs=4)(delayed(get_influential_solvent)(solvent) for solvent in data_df[\"Solvent\"])"
   ]
  },
  {
   "cell_type": "code",
   "execution_count": 416,
   "metadata": {},
   "outputs": [],
   "source": [
    "solvent_smiles_data = Parallel(n_jobs=4)(delayed(get_solvent_smiles)(solvent) for solvent in data_solvents)"
   ]
  },
  {
   "cell_type": "code",
   "execution_count": 455,
   "metadata": {},
   "outputs": [],
   "source": [
    "data_df[\"complete_reaction_smiles\"] = [AllChem.ReactionToSmiles(AllChem.ReactionFromSmarts(rsmp.reaction_smiles)) for rsmp in data_rsmps]"
   ]
  },
  {
   "cell_type": "code",
   "execution_count": 456,
   "metadata": {},
   "outputs": [],
   "source": [
    "data_df[\"influential_solvent\"] = data_solvents\n",
    "data_df[\"solvent_smiles\"] = solvent_smiles_data"
   ]
  },
  {
   "cell_type": "markdown",
   "metadata": {},
   "source": [
    "#### Investigate replicated reactions"
   ]
  },
  {
   "cell_type": "code",
   "execution_count": 457,
   "metadata": {},
   "outputs": [
    {
     "data": {
      "text/html": [
       "<div>\n",
       "<style scoped>\n",
       "    .dataframe tbody tr th:only-of-type {\n",
       "        vertical-align: middle;\n",
       "    }\n",
       "\n",
       "    .dataframe tbody tr th {\n",
       "        vertical-align: top;\n",
       "    }\n",
       "\n",
       "    .dataframe thead th {\n",
       "        text-align: right;\n",
       "    }\n",
       "</style>\n",
       "<table border=\"1\" class=\"dataframe\">\n",
       "  <thead>\n",
       "    <tr style=\"text-align: right;\">\n",
       "      <th></th>\n",
       "      <th>Reaction_SMILES</th>\n",
       "      <th>Exp_Rate_Constant k1 (M-1s-1)</th>\n",
       "      <th>Activation free Energy (kcal) Eyring</th>\n",
       "      <th>Solvent</th>\n",
       "      <th>Temp (K)</th>\n",
       "      <th>Reference</th>\n",
       "      <th>DOI</th>\n",
       "    </tr>\n",
       "  </thead>\n",
       "  <tbody>\n",
       "    <tr>\n",
       "      <th>26</th>\n",
       "      <td>FC1=CC=C(C=C1N(=O)=O)N(=O)=O.C3CCNCC3&gt;&gt;C3CCN(C...</td>\n",
       "      <td>150.000000</td>\n",
       "      <td>14.46</td>\n",
       "      <td>Acetonitrile</td>\n",
       "      <td>298.0</td>\n",
       "      <td>Eur. J.  Org. Chem, 2007, 1378</td>\n",
       "      <td>https://doi.org/10.1002/ejoc.200600968</td>\n",
       "    </tr>\n",
       "    <tr>\n",
       "      <th>108</th>\n",
       "      <td>Fc1ccc(cc1N(=O)=O)N(=O)=O.C1CCNCC1&gt;&gt;O=N(=O)c1c...</td>\n",
       "      <td>380.000000</td>\n",
       "      <td>13.91</td>\n",
       "      <td>Acetonitrile</td>\n",
       "      <td>298.0</td>\n",
       "      <td>J. Org. Chem., 2007, 72, 8797.</td>\n",
       "      <td>https://doi.org/doi/10.1021/jo701549h</td>\n",
       "    </tr>\n",
       "    <tr>\n",
       "      <th>139</th>\n",
       "      <td>Clc1ccc(cc1N(=O)=O)N(=O)=O.C1CCNCC1&gt;&gt;C2CCN(CC2...</td>\n",
       "      <td>0.015300</td>\n",
       "      <td>19.90</td>\n",
       "      <td>Ethanol</td>\n",
       "      <td>298.0</td>\n",
       "      <td>J. Chem. Soc., 1950, 507-516</td>\n",
       "      <td>https://doi.org/10.1039/JR9500000507</td>\n",
       "    </tr>\n",
       "    <tr>\n",
       "      <th>219</th>\n",
       "      <td>C1=CC(=CC=C1[N+](=O)[O-])F.[N-]=[N+]=[N-]&gt;&gt;[N-...</td>\n",
       "      <td>0.001738</td>\n",
       "      <td>21.18</td>\n",
       "      <td>TMS</td>\n",
       "      <td>298.0</td>\n",
       "      <td>J. Am. Chem. Soc.,1973, 95, 408-410</td>\n",
       "      <td>http://dx.doi.org/10.1021/ja00783a016</td>\n",
       "    </tr>\n",
       "    <tr>\n",
       "      <th>222</th>\n",
       "      <td>C1=CC(=CC=C1[N+](=O)[O-])F.[N-]=[N+]=[N-]&gt;&gt;[N-...</td>\n",
       "      <td>0.079500</td>\n",
       "      <td>18.92</td>\n",
       "      <td>HMPT</td>\n",
       "      <td>298.0</td>\n",
       "      <td>J. Am. Chem. Soc.,1973, 95, 408-410</td>\n",
       "      <td>http://dx.doi.org/10.1021/ja00783a016</td>\n",
       "    </tr>\n",
       "    <tr>\n",
       "      <th>467</th>\n",
       "      <td>C1=CC(=CC=C1[N+](=O)[O-])F.[N-]=[N+]=[N-]&gt;&gt;[N-...</td>\n",
       "      <td>1.258900</td>\n",
       "      <td>17.29</td>\n",
       "      <td>HMPT</td>\n",
       "      <td>298.0</td>\n",
       "      <td>J. Am. Chem. Soc., 1968, 90, 5049-5069</td>\n",
       "      <td>https://doi.org/10.1021/ja01021a002</td>\n",
       "    </tr>\n",
       "    <tr>\n",
       "      <th>468</th>\n",
       "      <td>C1=CC(=CC=C1[N+](=O)[O-])F.[N-]=[N+]=[N-]&gt;&gt;[N-...</td>\n",
       "      <td>0.001990</td>\n",
       "      <td>21.10</td>\n",
       "      <td>TMS</td>\n",
       "      <td>298.0</td>\n",
       "      <td>J. Am. Chem. Soc., 1968, 90, 5049-5069</td>\n",
       "      <td>https://doi.org/10.1021/ja01021a002</td>\n",
       "    </tr>\n",
       "    <tr>\n",
       "      <th>489</th>\n",
       "      <td>Clc1ccc(cc1N(=O)=O)N(=O)=O.C1CCNCC1&gt;&gt;O=N(=O)c1...</td>\n",
       "      <td>0.018000</td>\n",
       "      <td>19.80</td>\n",
       "      <td>Ethanol</td>\n",
       "      <td>298.0</td>\n",
       "      <td>J. Chem. Soc., Perkin Trans. 2, 1986, 1427-1431</td>\n",
       "      <td>http://dx.doi.org/10.1039/P29860001427</td>\n",
       "    </tr>\n",
       "  </tbody>\n",
       "</table>\n",
       "</div>"
      ],
      "text/plain": [
       "                                       Reaction_SMILES  \\\n",
       "26   FC1=CC=C(C=C1N(=O)=O)N(=O)=O.C3CCNCC3>>C3CCN(C...   \n",
       "108  Fc1ccc(cc1N(=O)=O)N(=O)=O.C1CCNCC1>>O=N(=O)c1c...   \n",
       "139  Clc1ccc(cc1N(=O)=O)N(=O)=O.C1CCNCC1>>C2CCN(CC2...   \n",
       "219  C1=CC(=CC=C1[N+](=O)[O-])F.[N-]=[N+]=[N-]>>[N-...   \n",
       "222  C1=CC(=CC=C1[N+](=O)[O-])F.[N-]=[N+]=[N-]>>[N-...   \n",
       "467  C1=CC(=CC=C1[N+](=O)[O-])F.[N-]=[N+]=[N-]>>[N-...   \n",
       "468  C1=CC(=CC=C1[N+](=O)[O-])F.[N-]=[N+]=[N-]>>[N-...   \n",
       "489  Clc1ccc(cc1N(=O)=O)N(=O)=O.C1CCNCC1>>O=N(=O)c1...   \n",
       "\n",
       "     Exp_Rate_Constant k1 (M-1s-1)  Activation free Energy (kcal) Eyring  \\\n",
       "26                      150.000000                                 14.46   \n",
       "108                     380.000000                                 13.91   \n",
       "139                       0.015300                                 19.90   \n",
       "219                       0.001738                                 21.18   \n",
       "222                       0.079500                                 18.92   \n",
       "467                       1.258900                                 17.29   \n",
       "468                       0.001990                                 21.10   \n",
       "489                       0.018000                                 19.80   \n",
       "\n",
       "          Solvent  Temp (K)                                        Reference  \\\n",
       "26   Acetonitrile     298.0                   Eur. J.  Org. Chem, 2007, 1378   \n",
       "108  Acetonitrile     298.0                   J. Org. Chem., 2007, 72, 8797.   \n",
       "139       Ethanol     298.0                     J. Chem. Soc., 1950, 507-516   \n",
       "219           TMS     298.0              J. Am. Chem. Soc.,1973, 95, 408-410   \n",
       "222          HMPT     298.0              J. Am. Chem. Soc.,1973, 95, 408-410   \n",
       "467          HMPT     298.0           J. Am. Chem. Soc., 1968, 90, 5049-5069   \n",
       "468           TMS     298.0           J. Am. Chem. Soc., 1968, 90, 5049-5069   \n",
       "489       Ethanol     298.0  J. Chem. Soc., Perkin Trans. 2, 1986, 1427-1431   \n",
       "\n",
       "                                        DOI  \n",
       "26   https://doi.org/10.1002/ejoc.200600968  \n",
       "108   https://doi.org/doi/10.1021/jo701549h  \n",
       "139    https://doi.org/10.1039/JR9500000507  \n",
       "219   http://dx.doi.org/10.1021/ja00783a016  \n",
       "222   http://dx.doi.org/10.1021/ja00783a016  \n",
       "467     https://doi.org/10.1021/ja01021a002  \n",
       "468     https://doi.org/10.1021/ja01021a002  \n",
       "489  http://dx.doi.org/10.1039/P29860001427  "
      ]
     },
     "execution_count": 457,
     "metadata": {},
     "output_type": "execute_result"
    }
   ],
   "source": [
    "data_df[data_df.duplicated([\"complete_reaction_smiles\", \"influential_solvent\", \"Temp (K)\"], keep=False)][[\"Reaction_SMILES\", 'Exp_Rate_Constant k1 (M-1s-1)', 'Activation free Energy (kcal) Eyring', 'Solvent', 'Temp (K)', 'Reference', 'DOI']]"
   ]
  },
  {
   "cell_type": "code",
   "execution_count": 458,
   "metadata": {},
   "outputs": [],
   "source": [
    "data_df.drop_duplicates([\"complete_reaction_smiles\", \"influential_solvent\", \"Temp (K)\"], inplace=True)"
   ]
  },
  {
   "cell_type": "markdown",
   "metadata": {},
   "source": [
    "#### Drop examples with activation energies"
   ]
  },
  {
   "cell_type": "code",
   "execution_count": 459,
   "metadata": {},
   "outputs": [],
   "source": [
    "data_df.dropna(subset=[\"Activation free Energy (kcal) Eyring\"], inplace=True)"
   ]
  },
  {
   "cell_type": "markdown",
   "metadata": {},
   "source": [
    "# Process data which was submitted"
   ]
  },
  {
   "cell_type": "code",
   "execution_count": 460,
   "metadata": {},
   "outputs": [
    {
     "name": "stdout",
     "output_type": "stream",
     "text": [
      "(476, 3)\n"
     ]
    }
   ],
   "source": [
    "submitted_df = pd.read_csv(\"submitted_smiles\", sep=\" \", names=[\"reaction_smiles\", \"temperature\", \"solvent\"])\n",
    "print(submitted_df.shape)"
   ]
  },
  {
   "cell_type": "code",
   "execution_count": 461,
   "metadata": {},
   "outputs": [],
   "source": [
    "submitted_rsmps = submitted_df[\"reaction_smiles\"].apply(lambda x: ReactionSmilesProcessor(x))"
   ]
  },
  {
   "cell_type": "code",
   "execution_count": 462,
   "metadata": {},
   "outputs": [
    {
     "name": "stdout",
     "output_type": "stream",
     "text": [
      "(452, 4)\n"
     ]
    }
   ],
   "source": [
    "submitted_df[\"complete_reaction_smiles\"] = [AllChem.ReactionToSmiles(AllChem.ReactionFromSmarts(rsmp.reaction_smiles)) for rsmp in submitted_rsmps]\n",
    "submitted_df.drop_duplicates([\"complete_reaction_smiles\", \"temperature\", \"solvent\"], inplace=True)\n",
    "print(submitted_df.shape)"
   ]
  },
  {
   "cell_type": "code",
   "execution_count": 463,
   "metadata": {},
   "outputs": [],
   "source": [
    "comp_submitted = submitted_df[[\"complete_reaction_smiles\", \"solvent\", \"temperature\"]]\n",
    "comp_submitted.columns = [\"reaction_smiles\", \"solvent\", \"temperature\"]\n",
    "comp_data = data_df[[\"complete_reaction_smiles\", \"influential_solvent\", \"Temp (K)\"]]\n",
    "comp_data.columns = [\"reaction_smiles\", \"solvent\", \"temperature\"]"
   ]
  },
  {
   "cell_type": "code",
   "execution_count": 464,
   "metadata": {},
   "outputs": [
    {
     "data": {
      "text/plain": [
       "(452, 3)"
      ]
     },
     "execution_count": 464,
     "metadata": {},
     "output_type": "execute_result"
    }
   ],
   "source": [
    "comp_submitted.shape"
   ]
  },
  {
   "cell_type": "markdown",
   "metadata": {},
   "source": [
    "# Find submitted reactions not in the dataset"
   ]
  },
  {
   "cell_type": "code",
   "execution_count": 465,
   "metadata": {},
   "outputs": [],
   "source": [
    "sub_in_data = pd.merge(comp_submitted, comp_data, how=\"left\", on=[\"reaction_smiles\", \"solvent\", \"temperature\"], indicator=True)\n",
    "sub_in_data.index = comp_submitted.index"
   ]
  },
  {
   "cell_type": "code",
   "execution_count": 466,
   "metadata": {},
   "outputs": [],
   "source": [
    "left_only_sub = comp_submitted[sub_in_data[\"_merge\"] == \"left_only\"]\n",
    "both_sub = comp_submitted[sub_in_data[\"_merge\"] == \"both\"]"
   ]
  },
  {
   "cell_type": "code",
   "execution_count": 467,
   "metadata": {},
   "outputs": [
    {
     "data": {
      "text/plain": [
       "451"
      ]
     },
     "execution_count": 467,
     "metadata": {},
     "output_type": "execute_result"
    }
   ],
   "source": [
    "len(both_sub)"
   ]
  },
  {
   "cell_type": "code",
   "execution_count": 468,
   "metadata": {},
   "outputs": [
    {
     "data": {
      "text/html": [
       "<div>\n",
       "<style scoped>\n",
       "    .dataframe tbody tr th:only-of-type {\n",
       "        vertical-align: middle;\n",
       "    }\n",
       "\n",
       "    .dataframe tbody tr th {\n",
       "        vertical-align: top;\n",
       "    }\n",
       "\n",
       "    .dataframe thead th {\n",
       "        text-align: right;\n",
       "    }\n",
       "</style>\n",
       "<table border=\"1\" class=\"dataframe\">\n",
       "  <thead>\n",
       "    <tr style=\"text-align: right;\">\n",
       "      <th></th>\n",
       "      <th>reaction_smiles</th>\n",
       "      <th>solvent</th>\n",
       "      <th>temperature</th>\n",
       "    </tr>\n",
       "  </thead>\n",
       "  <tbody>\n",
       "    <tr>\n",
       "      <th>352</th>\n",
       "      <td>CCCCN.N#Cc1cc(C(F)(F)F)ccc1Cl&gt;&gt;CCCCNc1ccc(C(F)...</td>\n",
       "      <td>Acetonitrile</td>\n",
       "      <td>298.0</td>\n",
       "    </tr>\n",
       "  </tbody>\n",
       "</table>\n",
       "</div>"
      ],
      "text/plain": [
       "                                       reaction_smiles       solvent  \\\n",
       "352  CCCCN.N#Cc1cc(C(F)(F)F)ccc1Cl>>CCCCNc1ccc(C(F)...  Acetonitrile   \n",
       "\n",
       "     temperature  \n",
       "352        298.0  "
      ]
     },
     "execution_count": 468,
     "metadata": {},
     "output_type": "execute_result"
    }
   ],
   "source": [
    "comp_submitted[sub_in_data[\"_merge\"] == \"left_only\"]"
   ]
  },
  {
   "cell_type": "markdown",
   "metadata": {},
   "source": [
    "# Find reactions in dataset that were not submitted"
   ]
  },
  {
   "cell_type": "code",
   "execution_count": 469,
   "metadata": {},
   "outputs": [],
   "source": [
    "data_in_sub = pd.merge(comp_data, comp_submitted, how=\"left\", on=[\"reaction_smiles\", \"solvent\", \"temperature\"], indicator=True)\n",
    "data_in_sub.index = comp_data.index"
   ]
  },
  {
   "cell_type": "code",
   "execution_count": 470,
   "metadata": {},
   "outputs": [],
   "source": [
    "left_only_data = comp_data[data_in_sub[\"_merge\"] == \"left_only\"]\n",
    "both_data = comp_data[data_in_sub[\"_merge\"] == \"both\"]"
   ]
  },
  {
   "cell_type": "code",
   "execution_count": 471,
   "metadata": {},
   "outputs": [
    {
     "data": {
      "text/plain": [
       "Int64Index([347, 353, 469, 470, 471, 472, 473, 474, 475, 476, 477, 478, 479,\n",
       "            480, 481, 482, 483, 484, 485, 486, 487, 488, 490, 491, 492, 493,\n",
       "            494, 495, 496, 497, 498, 500, 501, 502, 503, 504, 505, 506, 507,\n",
       "            508, 510, 511, 512, 513, 514, 515, 516, 517],\n",
       "           dtype='int64')"
      ]
     },
     "execution_count": 471,
     "metadata": {},
     "output_type": "execute_result"
    }
   ],
   "source": [
    "left_only_data.index"
   ]
  },
  {
   "cell_type": "code",
   "execution_count": 472,
   "metadata": {},
   "outputs": [
    {
     "data": {
      "text/plain": [
       "48"
      ]
     },
     "execution_count": 472,
     "metadata": {},
     "output_type": "execute_result"
    }
   ],
   "source": [
    "len(left_only_data)"
   ]
  },
  {
   "cell_type": "markdown",
   "metadata": {},
   "source": [
    "# Analysis of completed reactions"
   ]
  },
  {
   "cell_type": "code",
   "execution_count": 489,
   "metadata": {},
   "outputs": [
    {
     "name": "stdout",
     "output_type": "stream",
     "text": [
      "(475, 55)\n"
     ]
    }
   ],
   "source": [
    "df = extract_dataframe(\"../machine_learning/2019-12-15/db\", or_lg_correction=True)\n",
    "print(df.shape)"
   ]
  },
  {
   "cell_type": "code",
   "execution_count": 490,
   "metadata": {},
   "outputs": [],
   "source": [
    "reactions = df[\"reaction_smiles\"].apply(lambda x: AllChem.ReactionFromSmarts(x, useSmiles=True))\n",
    "for reaction in reactions:\n",
    "    for mol in list(reaction.GetReactants()) + list(reaction.GetProducts()):\n",
    "        Chem.SanitizeMol(mol)\n",
    "df[\"reaction_smiles\"] = [AllChem.ReactionToSmiles(reaction) for reaction in reactions]"
   ]
  },
  {
   "cell_type": "code",
   "execution_count": 437,
   "metadata": {},
   "outputs": [],
   "source": [
    "solvent_smiles_sub = Parallel(n_jobs=4)(delayed(get_solvent_smiles)(solvent) for solvent in both_sub[\"solvent\"])"
   ]
  },
  {
   "cell_type": "code",
   "execution_count": 491,
   "metadata": {},
   "outputs": [],
   "source": [
    "good_sub = both_sub.copy()"
   ]
  },
  {
   "cell_type": "code",
   "execution_count": 492,
   "metadata": {},
   "outputs": [],
   "source": [
    "good_sub[\"solvent\"] = solvent_smiles_sub"
   ]
  },
  {
   "cell_type": "code",
   "execution_count": 493,
   "metadata": {},
   "outputs": [
    {
     "name": "stdout",
     "output_type": "stream",
     "text": [
      "(452, 55)\n"
     ]
    }
   ],
   "source": [
    "df.drop_duplicates([\"reaction_smiles\", \"solvent\", \"temperature\"], inplace=True)\n",
    "print(df.shape)"
   ]
  },
  {
   "cell_type": "markdown",
   "metadata": {},
   "source": [
    "#### Investigate submitted jobs which were not finished\n",
    "Turns out that all jobs were finished"
   ]
  },
  {
   "cell_type": "code",
   "execution_count": 498,
   "metadata": {},
   "outputs": [],
   "source": [
    "finished = pd.merge(good_sub, df, how=\"left\", on=[\"reaction_smiles\", \"solvent\", \"temperature\"], indicator=True)\n",
    "finished.index = good_sub.index"
   ]
  },
  {
   "cell_type": "code",
   "execution_count": 499,
   "metadata": {},
   "outputs": [
    {
     "data": {
      "text/plain": [
       "both          451\n",
       "right_only      0\n",
       "left_only       0\n",
       "Name: _merge, dtype: int64"
      ]
     },
     "execution_count": 499,
     "metadata": {},
     "output_type": "execute_result"
    }
   ],
   "source": [
    "finished[\"_merge\"].value_counts()"
   ]
  },
  {
   "cell_type": "code",
   "execution_count": 500,
   "metadata": {},
   "outputs": [],
   "source": [
    "left_only = finished[finished[\"_merge\"] == \"left_only\"]"
   ]
  },
  {
   "cell_type": "code",
   "execution_count": 501,
   "metadata": {},
   "outputs": [
    {
     "data": {
      "text/html": [
       "<div>\n",
       "<style scoped>\n",
       "    .dataframe tbody tr th:only-of-type {\n",
       "        vertical-align: middle;\n",
       "    }\n",
       "\n",
       "    .dataframe tbody tr th {\n",
       "        vertical-align: top;\n",
       "    }\n",
       "\n",
       "    .dataframe thead th {\n",
       "        text-align: right;\n",
       "    }\n",
       "</style>\n",
       "<table border=\"1\" class=\"dataframe\">\n",
       "  <thead>\n",
       "    <tr style=\"text-align: right;\">\n",
       "      <th></th>\n",
       "      <th>reaction_smiles</th>\n",
       "      <th>solvent</th>\n",
       "      <th>temperature</th>\n",
       "      <th>reaction_smiles_orig</th>\n",
       "      <th>v_av_central_atom</th>\n",
       "      <th>v_av_nu_atom</th>\n",
       "      <th>reaction_energy</th>\n",
       "      <th>reaction_energy_qh_grimme</th>\n",
       "      <th>reaction_energy_qh_truhlar</th>\n",
       "      <th>activation_energy</th>\n",
       "      <th>...</th>\n",
       "      <th>bo_nu_ts</th>\n",
       "      <th>bo_lg_ts</th>\n",
       "      <th>bo_prod_nu</th>\n",
       "      <th>nu_symbol</th>\n",
       "      <th>lg_symbol</th>\n",
       "      <th>inchikey_substrate</th>\n",
       "      <th>inchikey_nu</th>\n",
       "      <th>inchikey_lg</th>\n",
       "      <th>inchikey_product</th>\n",
       "      <th>_merge</th>\n",
       "    </tr>\n",
       "  </thead>\n",
       "  <tbody>\n",
       "  </tbody>\n",
       "</table>\n",
       "<p>0 rows × 56 columns</p>\n",
       "</div>"
      ],
      "text/plain": [
       "Empty DataFrame\n",
       "Columns: [reaction_smiles, solvent, temperature, reaction_smiles_orig, v_av_central_atom, v_av_nu_atom, reaction_energy, reaction_energy_qh_grimme, reaction_energy_qh_truhlar, activation_energy, activation_energy_qh_grimme, activation_energy_qh_truhlar, sasa_nu, sasa_central, sasa_ratio_nu, sasa_ratio_central, epn_central, epn_nu, epn_lg, epn_central_ts, epn_nu_ts, epn_lg_ts, nu_charge, nu_charge_ts, central_charge, central_charge_ts, lg_charge, lg_charge_ts, nu_formed, lg_broken, omega, n, local_electrophilicity_center, local_nucleophilicity_nu, is_av, es_av, concerted, rds, flat_pes, p_int_central, p_int_nu, p_int_area_central, p_int_area_nu, bo_diff_nu, bo_diff_lg, bo_sub_lg, bo_nu_ts, bo_lg_ts, bo_prod_nu, nu_symbol, lg_symbol, inchikey_substrate, inchikey_nu, inchikey_lg, inchikey_product, _merge]\n",
       "Index: []\n",
       "\n",
       "[0 rows x 56 columns]"
      ]
     },
     "execution_count": 501,
     "metadata": {},
     "output_type": "execute_result"
    }
   ],
   "source": [
    "left_only"
   ]
  },
  {
   "cell_type": "code",
   "execution_count": 502,
   "metadata": {},
   "outputs": [],
   "source": [
    "extra_submitted = pd.merge(df, good_sub, how=\"left\", on=[\"reaction_smiles\", \"solvent\", \"temperature\"], indicator=True)\n",
    "extra_submitted.index = df.index"
   ]
  },
  {
   "cell_type": "code",
   "execution_count": 503,
   "metadata": {},
   "outputs": [
    {
     "data": {
      "text/plain": [
       "both          451\n",
       "left_only       1\n",
       "right_only      0\n",
       "Name: _merge, dtype: int64"
      ]
     },
     "execution_count": 503,
     "metadata": {},
     "output_type": "execute_result"
    }
   ],
   "source": [
    "extra_submitted[\"_merge\"].value_counts()"
   ]
  },
  {
   "cell_type": "code",
   "execution_count": 504,
   "metadata": {},
   "outputs": [
    {
     "data": {
      "text/plain": [
       "322    CCCCN.N#Cc1cc(C(F)(F)F)ccc1Cl>>CCCCNc1ccc(C(F)...\n",
       "Name: reaction_smiles, dtype: object"
      ]
     },
     "execution_count": 504,
     "metadata": {},
     "output_type": "execute_result"
    }
   ],
   "source": [
    "df[extra_submitted[\"_merge\"] == \"left_only\"][\"reaction_smiles\"]"
   ]
  },
  {
   "cell_type": "code",
   "execution_count": 505,
   "metadata": {},
   "outputs": [
    {
     "data": {
      "text/plain": [
       "array(['CCCCN.N#Cc1cc(C(F)(F)F)ccc1Cl>>CCCCNc1ccc(C(F)(F)F)cc1C#N.Cl'],\n",
       "      dtype=object)"
      ]
     },
     "execution_count": 505,
     "metadata": {},
     "output_type": "execute_result"
    }
   ],
   "source": [
    "df[extra_submitted[\"_merge\"] == \"left_only\"][\"reaction_smiles\"].values"
   ]
  },
  {
   "cell_type": "markdown",
   "metadata": {},
   "source": [
    "# Find status for reactions in dataset\n",
    "* Not submitted\n",
    "* Submitted\n",
    "* Failed\n",
    "* Not treated"
   ]
  },
  {
   "cell_type": "markdown",
   "metadata": {},
   "source": [
    "Failed reactions:\n",
    "\n",
    "| index | reason |\n",
    "| ----- | ------ |\n",
    "| 201   | TMS    |\n",
    "| 66    | TS     |\n",
    "| 185   | TS     |\n",
    "| 339   | TS     |\n",
    "| 457   | TS     |\n",
    "| 364   | C nu   |\n",
    "| 365   | C nu   |"
   ]
  },
  {
   "cell_type": "code",
   "execution_count": 529,
   "metadata": {},
   "outputs": [],
   "source": [
    "non_submitted = left_only_data.index\n",
    "failed = pd.Index([66, 185, 339, 457, 364, 365])\n",
    "non_treated = pd.Index([201, 474])\n",
    "wrongly_submitted = pd.Index([322])"
   ]
  },
  {
   "cell_type": "markdown",
   "metadata": {},
   "source": [
    "Check that numbers add up"
   ]
  },
  {
   "cell_type": "code",
   "execution_count": 536,
   "metadata": {},
   "outputs": [],
   "source": [
    "n_good = len(df) - len(non_treated) - len(wrongly_submitted)\n",
    "n_successful = n_good - len(failed)\n",
    "n_failed = len(failed)"
   ]
  },
  {
   "cell_type": "code",
   "execution_count": 539,
   "metadata": {},
   "outputs": [
    {
     "name": "stdout",
     "output_type": "stream",
     "text": [
      "Good submitted reactions: 449\n",
      "Successful reactions: 443\n",
      "Failed reactions: 6\n",
      "Percentage failures: 1.34\n"
     ]
    }
   ],
   "source": [
    "print(\"Good submitted reactions:\", n_good)\n",
    "print(\"Successful reactions:\", n_successful)\n",
    "print(\"Failed reactions:\", n_failed)\n",
    "print(f\"Percentage failures: {(n_failed / n_good) * 100:.2f}\")"
   ]
  },
  {
   "cell_type": "code",
   "execution_count": null,
   "metadata": {},
   "outputs": [],
   "source": []
  },
  {
   "cell_type": "code",
   "execution_count": 95,
   "metadata": {},
   "outputs": [
    {
     "data": {
      "text/plain": [
       "2      22.08\n",
       "337    20.09\n",
       "Name: Activation free Energy (kcal) Eyring, dtype: float64"
      ]
     },
     "execution_count": 95,
     "metadata": {},
     "output_type": "execute_result"
    }
   ],
   "source": [
    "data_df[data_df[\"complete_reaction_smiles\"] == ]['Activation free Energy (kcal) Eyring']"
   ]
  },
  {
   "cell_type": "code",
   "execution_count": 84,
   "metadata": {},
   "outputs": [
    {
     "data": {
      "text/plain": [
       "352    CCCCN.N#Cc1cc(C(F)(F)F)ccc1Cl>>CCCCNc1ccc(C(F)...\n",
       "Name: reaction_smiles, dtype: object"
      ]
     },
     "execution_count": 84,
     "metadata": {},
     "output_type": "execute_result"
    }
   ],
   "source": [
    "left_only_sub[\"reaction_smiles\"].values"
   ]
  },
  {
   "cell_type": "code",
   "execution_count": 170,
   "metadata": {},
   "outputs": [],
   "source": [
    "smiles_submitted = 'O=N(=O)c1ccc(Cl)nc1.CCCCN>>CCCCNc1ccc(cn1)N(=O)=O'"
   ]
  },
  {
   "cell_type": "code",
   "execution_count": 171,
   "metadata": {},
   "outputs": [],
   "source": [
    "smiles_data = \"O=N(=O)c1ccc(Cl)nc1.CCCCN>>CCCCNc1ccc(cn1)N(=O)=O\""
   ]
  },
  {
   "cell_type": "code",
   "execution_count": 167,
   "metadata": {},
   "outputs": [
    {
     "data": {
      "text/plain": [
       "337    O=N(=O)c1ccc(Cl)nc1.CCCCN>>CCCCNc1ccc(cn1)N(=O)=O\n",
       "Name: Reaction_SMILES, dtype: object"
      ]
     },
     "execution_count": 167,
     "metadata": {},
     "output_type": "execute_result"
    }
   ],
   "source": [
    "data_df[data_df[\"Reaction_SMILES\"] == 'O=N(=O)c1ccc(Cl)nc1.CCCCN>>CCCCNc1ccc(cn1)N(=O)=O'][\"Reaction_SMILES\"]"
   ]
  },
  {
   "cell_type": "code",
   "execution_count": 163,
   "metadata": {},
   "outputs": [
    {
     "data": {
      "text/plain": [
       "'CCCCN.O=[N+]([O-])c1ccc(Cl)nc1>>CCCCNc1ccc([N+](=O)[O-])cn1.Cl'"
      ]
     },
     "execution_count": 163,
     "metadata": {},
     "output_type": "execute_result"
    }
   ],
   "source": [
    "AllChem.ReactionToSmiles(AllChem.ReactionFromSmarts('O=[N+]([O-])c1ccc(Cl)nc1.CCCCN>>CCCCNc1ccc([N+](=O)[O-])cn1.Cl', useSmiles=True))"
   ]
  },
  {
   "cell_type": "code",
   "execution_count": 97,
   "metadata": {},
   "outputs": [
    {
     "data": {
      "text/html": [
       "<div>\n",
       "<style scoped>\n",
       "    .dataframe tbody tr th:only-of-type {\n",
       "        vertical-align: middle;\n",
       "    }\n",
       "\n",
       "    .dataframe tbody tr th {\n",
       "        vertical-align: top;\n",
       "    }\n",
       "\n",
       "    .dataframe thead th {\n",
       "        text-align: right;\n",
       "    }\n",
       "</style>\n",
       "<table border=\"1\" class=\"dataframe\">\n",
       "  <thead>\n",
       "    <tr style=\"text-align: right;\">\n",
       "      <th></th>\n",
       "      <th>reaction_smiles</th>\n",
       "      <th>reaction_smiles_orig</th>\n",
       "      <th>v_av_central_atom</th>\n",
       "      <th>v_av_nu_atom</th>\n",
       "      <th>reaction_energy</th>\n",
       "      <th>reaction_energy_qh_grimme</th>\n",
       "      <th>reaction_energy_qh_truhlar</th>\n",
       "      <th>activation_energy</th>\n",
       "      <th>activation_energy_qh_grimme</th>\n",
       "      <th>activation_energy_qh_truhlar</th>\n",
       "      <th>...</th>\n",
       "      <th>bo_lg_ts</th>\n",
       "      <th>bo_prod_nu</th>\n",
       "      <th>nu_symbol</th>\n",
       "      <th>lg_symbol</th>\n",
       "      <th>solvent</th>\n",
       "      <th>inchikey_substrate</th>\n",
       "      <th>inchikey_nu</th>\n",
       "      <th>inchikey_lg</th>\n",
       "      <th>inchikey_product</th>\n",
       "      <th>temperature</th>\n",
       "    </tr>\n",
       "  </thead>\n",
       "  <tbody>\n",
       "    <tr>\n",
       "      <th>296</th>\n",
       "      <td>CCCCN.O=[N+]([O-])c1ccc(Cl)nc1&gt;&gt;CCCCNc1ccc([N+...</td>\n",
       "      <td>O=N(=O)c1ccc(Cl)nc1.CCCCN&gt;&gt;CCCCNc1ccc(cn1)N(=O)=O</td>\n",
       "      <td>14.8</td>\n",
       "      <td>-13.3</td>\n",
       "      <td>-19.948616</td>\n",
       "      <td>-18.996684</td>\n",
       "      <td>-18.662221</td>\n",
       "      <td>20.704556</td>\n",
       "      <td>21.868586</td>\n",
       "      <td>22.199283</td>\n",
       "      <td>...</td>\n",
       "      <td>0.889538</td>\n",
       "      <td>1.302474</td>\n",
       "      <td>N</td>\n",
       "      <td>Cl</td>\n",
       "      <td>CS(=O)C</td>\n",
       "      <td>AFJQLCOKPDRRAN-UHFFFAOYSA-N</td>\n",
       "      <td>HQABUPZFAYXKJW-UHFFFAOYSA-N</td>\n",
       "      <td>VEXZGXHMUGYJMC-UHFFFAOYSA-N</td>\n",
       "      <td>AFJQLCOKPDRRAN-UHFFFAOYSA-N</td>\n",
       "      <td>298.0</td>\n",
       "    </tr>\n",
       "    <tr>\n",
       "      <th>439</th>\n",
       "      <td>CCCCN.O=[N+]([O-])c1ccc(Cl)nc1&gt;&gt;CCCCNc1ccc([N+...</td>\n",
       "      <td>O=N(=O)c1ccc(Cl)nc1.CCCCN&gt;&gt;CCCCNc1ccc(cn1)N(=O)=O</td>\n",
       "      <td>14.8</td>\n",
       "      <td>-13.3</td>\n",
       "      <td>-19.142419</td>\n",
       "      <td>-18.463453</td>\n",
       "      <td>-18.317244</td>\n",
       "      <td>21.480323</td>\n",
       "      <td>22.530146</td>\n",
       "      <td>22.781150</td>\n",
       "      <td>...</td>\n",
       "      <td>0.890495</td>\n",
       "      <td>1.303473</td>\n",
       "      <td>N</td>\n",
       "      <td>Cl</td>\n",
       "      <td>C(C)#N</td>\n",
       "      <td>AFJQLCOKPDRRAN-UHFFFAOYSA-N</td>\n",
       "      <td>HQABUPZFAYXKJW-UHFFFAOYSA-N</td>\n",
       "      <td>VEXZGXHMUGYJMC-UHFFFAOYSA-N</td>\n",
       "      <td>AFJQLCOKPDRRAN-UHFFFAOYSA-N</td>\n",
       "      <td>298.0</td>\n",
       "    </tr>\n",
       "  </tbody>\n",
       "</table>\n",
       "<p>2 rows × 55 columns</p>\n",
       "</div>"
      ],
      "text/plain": [
       "                                       reaction_smiles  \\\n",
       "296  CCCCN.O=[N+]([O-])c1ccc(Cl)nc1>>CCCCNc1ccc([N+...   \n",
       "439  CCCCN.O=[N+]([O-])c1ccc(Cl)nc1>>CCCCNc1ccc([N+...   \n",
       "\n",
       "                                  reaction_smiles_orig  v_av_central_atom  \\\n",
       "296  O=N(=O)c1ccc(Cl)nc1.CCCCN>>CCCCNc1ccc(cn1)N(=O)=O               14.8   \n",
       "439  O=N(=O)c1ccc(Cl)nc1.CCCCN>>CCCCNc1ccc(cn1)N(=O)=O               14.8   \n",
       "\n",
       "     v_av_nu_atom  reaction_energy  reaction_energy_qh_grimme  \\\n",
       "296         -13.3       -19.948616                 -18.996684   \n",
       "439         -13.3       -19.142419                 -18.463453   \n",
       "\n",
       "     reaction_energy_qh_truhlar  activation_energy  \\\n",
       "296                  -18.662221          20.704556   \n",
       "439                  -18.317244          21.480323   \n",
       "\n",
       "     activation_energy_qh_grimme  activation_energy_qh_truhlar  ...  bo_lg_ts  \\\n",
       "296                    21.868586                     22.199283  ...  0.889538   \n",
       "439                    22.530146                     22.781150  ...  0.890495   \n",
       "\n",
       "     bo_prod_nu  nu_symbol  lg_symbol  solvent           inchikey_substrate  \\\n",
       "296    1.302474          N         Cl  CS(=O)C  AFJQLCOKPDRRAN-UHFFFAOYSA-N   \n",
       "439    1.303473          N         Cl   C(C)#N  AFJQLCOKPDRRAN-UHFFFAOYSA-N   \n",
       "\n",
       "                     inchikey_nu                  inchikey_lg  \\\n",
       "296  HQABUPZFAYXKJW-UHFFFAOYSA-N  VEXZGXHMUGYJMC-UHFFFAOYSA-N   \n",
       "439  HQABUPZFAYXKJW-UHFFFAOYSA-N  VEXZGXHMUGYJMC-UHFFFAOYSA-N   \n",
       "\n",
       "                inchikey_product  temperature  \n",
       "296  AFJQLCOKPDRRAN-UHFFFAOYSA-N        298.0  \n",
       "439  AFJQLCOKPDRRAN-UHFFFAOYSA-N        298.0  \n",
       "\n",
       "[2 rows x 55 columns]"
      ]
     },
     "execution_count": 97,
     "metadata": {},
     "output_type": "execute_result"
    }
   ],
   "source": [
    "df[df[\"reaction_smiles\"] == AllChem.ReactionToSmiles(AllChem.ReactionFromSmarts('O=[N+]([O-])c1ccc(Cl)nc1.CCCCN>>CCCCNc1ccc([N+](=O)[O-])cn1.Cl', useSmiles=True))]"
   ]
  },
  {
   "cell_type": "code",
   "execution_count": 102,
   "metadata": {},
   "outputs": [
    {
     "data": {
      "text/plain": [
       "Index(['ID', 'Exp_Rate_Constant k1 (M-1s-1)', 'Molecule', 'Modelled',\n",
       "       'Reaction_SMILES', 'Substrate_SMILES', 'Nucleophile_SMILES',\n",
       "       'Product_SMILES', 'RLPT', 'Original Data', 'Temp(degC)',\n",
       "       'Activation free Energy (kcal) Eyring', 'Temp (K)', 'Reference',\n",
       "       'Book_Page', 'Year', 'Title', 'Authors', 'Link', 'DOI', 'Comment',\n",
       "       'Referenced Data', 'Mechanism', 'Table', 'Substitution Site',\n",
       "       'Nucleophile', 'Leaving Group', 'Solvent', 'logK',\n",
       "       'Half_life (1M) (mins)', 'Half_life (IM) (hrs)', 'Index',\n",
       "       'canonical_Substrate', 'canonical_Nucleophile', 'canonical_Product',\n",
       "       'canonical_reaction_smiles', 'reaction_mols', 'Duplicates',\n",
       "       'complete_reaction_smiles', 'influential_solvent'],\n",
       "      dtype='object')"
      ]
     },
     "execution_count": 102,
     "metadata": {},
     "output_type": "execute_result"
    }
   ],
   "source": [
    "data_df.columns"
   ]
  },
  {
   "cell_type": "code",
   "execution_count": null,
   "metadata": {},
   "outputs": [],
   "source": []
  },
  {
   "cell_type": "code",
   "execution_count": 159,
   "metadata": {},
   "outputs": [],
   "source": [
    "merged_df = pd.merge(df, data_df, how=\"left\", left_on=[\"reaction_smiles\", \"solvent\", \"temperature\"], right_on=[\"complete_reaction_smiles\", \"solvent_smiles\", \"Temp (K)\"], indicator=True)"
   ]
  },
  {
   "cell_type": "code",
   "execution_count": 160,
   "metadata": {},
   "outputs": [
    {
     "data": {
      "text/plain": [
       "Index(['reaction_smiles', 'reaction_smiles_orig', 'v_av_central_atom',\n",
       "       'v_av_nu_atom', 'reaction_energy', 'reaction_energy_qh_grimme',\n",
       "       'reaction_energy_qh_truhlar', 'activation_energy',\n",
       "       'activation_energy_qh_grimme', 'activation_energy_qh_truhlar',\n",
       "       'sasa_nu', 'sasa_central', 'sasa_ratio_nu', 'sasa_ratio_central',\n",
       "       'epn_central', 'epn_nu', 'epn_lg', 'epn_central_ts', 'epn_nu_ts',\n",
       "       'epn_lg_ts', 'nu_charge', 'nu_charge_ts', 'central_charge',\n",
       "       'central_charge_ts', 'lg_charge', 'lg_charge_ts', 'nu_formed',\n",
       "       'lg_broken', 'omega', 'n', 'local_electrophilicity_center',\n",
       "       'local_nucleophilicity_nu', 'is_av', 'es_av', 'concerted', 'rds',\n",
       "       'flat_pes', 'p_int_central', 'p_int_nu', 'p_int_area_central',\n",
       "       'p_int_area_nu', 'bo_diff_nu', 'bo_diff_lg', 'bo_sub_lg', 'bo_nu_ts',\n",
       "       'bo_lg_ts', 'bo_prod_nu', 'nu_symbol', 'lg_symbol', 'solvent',\n",
       "       'inchikey_substrate', 'inchikey_nu', 'inchikey_lg', 'inchikey_product',\n",
       "       'temperature', 'ID', 'Exp_Rate_Constant k1 (M-1s-1)', 'Molecule',\n",
       "       'Modelled', 'Reaction_SMILES', 'Substrate_SMILES', 'Nucleophile_SMILES',\n",
       "       'Product_SMILES', 'RLPT', 'Original Data', 'Temp(degC)',\n",
       "       'Activation free Energy (kcal) Eyring', 'Temp (K)', 'Reference',\n",
       "       'Book_Page', 'Year', 'Title', 'Authors', 'Link', 'DOI', 'Comment',\n",
       "       'Referenced Data', 'Mechanism', 'Table', 'Substitution Site',\n",
       "       'Nucleophile', 'Leaving Group', 'Solvent', 'logK',\n",
       "       'Half_life (1M) (mins)', 'Half_life (IM) (hrs)', 'Index',\n",
       "       'canonical_Substrate', 'canonical_Nucleophile', 'canonical_Product',\n",
       "       'canonical_reaction_smiles', 'reaction_mols', 'Duplicates',\n",
       "       'complete_reaction_smiles', 'influential_solvent', 'solvent_smiles',\n",
       "       '_merge'],\n",
       "      dtype='object')"
      ]
     },
     "execution_count": 160,
     "metadata": {},
     "output_type": "execute_result"
    }
   ],
   "source": [
    "merged_df.columns"
   ]
  },
  {
   "cell_type": "code",
   "execution_count": 161,
   "metadata": {},
   "outputs": [
    {
     "data": {
      "text/plain": [
       "both          451\n",
       "left_only       1\n",
       "right_only      0\n",
       "Name: _merge, dtype: int64"
      ]
     },
     "execution_count": 161,
     "metadata": {},
     "output_type": "execute_result"
    }
   ],
   "source": [
    "merged_df[\"_merge\"].value_counts()"
   ]
  },
  {
   "cell_type": "code",
   "execution_count": 153,
   "metadata": {},
   "outputs": [
    {
     "data": {
      "text/plain": [
       "0"
      ]
     },
     "execution_count": 153,
     "metadata": {},
     "output_type": "execute_result"
    }
   ],
   "source": [
    "merged_df[\"Activation free Energy (kcal) Eyring\"].isna().sum()"
   ]
  },
  {
   "cell_type": "code",
   "execution_count": 172,
   "metadata": {},
   "outputs": [
    {
     "data": {
      "text/html": [
       "<div>\n",
       "<style scoped>\n",
       "    .dataframe tbody tr th:only-of-type {\n",
       "        vertical-align: middle;\n",
       "    }\n",
       "\n",
       "    .dataframe tbody tr th {\n",
       "        vertical-align: top;\n",
       "    }\n",
       "\n",
       "    .dataframe thead th {\n",
       "        text-align: right;\n",
       "    }\n",
       "</style>\n",
       "<table border=\"1\" class=\"dataframe\">\n",
       "  <thead>\n",
       "    <tr style=\"text-align: right;\">\n",
       "      <th></th>\n",
       "      <th>reaction_smiles</th>\n",
       "      <th>reaction_smiles_orig</th>\n",
       "      <th>v_av_central_atom</th>\n",
       "      <th>v_av_nu_atom</th>\n",
       "      <th>reaction_energy</th>\n",
       "      <th>reaction_energy_qh_grimme</th>\n",
       "      <th>reaction_energy_qh_truhlar</th>\n",
       "      <th>activation_energy</th>\n",
       "      <th>activation_energy_qh_grimme</th>\n",
       "      <th>activation_energy_qh_truhlar</th>\n",
       "      <th>...</th>\n",
       "      <th>bo_lg_ts</th>\n",
       "      <th>bo_prod_nu</th>\n",
       "      <th>nu_symbol</th>\n",
       "      <th>lg_symbol</th>\n",
       "      <th>solvent</th>\n",
       "      <th>inchikey_substrate</th>\n",
       "      <th>inchikey_nu</th>\n",
       "      <th>inchikey_lg</th>\n",
       "      <th>inchikey_product</th>\n",
       "      <th>temperature</th>\n",
       "    </tr>\n",
       "  </thead>\n",
       "  <tbody>\n",
       "    <tr>\n",
       "      <th>0</th>\n",
       "      <td>CCCCN.O=[N+]([O-])c1ccc(Cl)c([N+](=O)[O-])c1&gt;&gt;...</td>\n",
       "      <td>ClC1=CC=C(C=C1N(=O)=O)N(=O)=O.CCCCN&gt;&gt;CCCCNC1=C...</td>\n",
       "      <td>21.9</td>\n",
       "      <td>-13.3</td>\n",
       "      <td>-22.311394</td>\n",
       "      <td>-21.284788</td>\n",
       "      <td>-20.891967</td>\n",
       "      <td>18.140663</td>\n",
       "      <td>19.386269</td>\n",
       "      <td>19.762147</td>\n",
       "      <td>...</td>\n",
       "      <td>0.986291</td>\n",
       "      <td>1.382835</td>\n",
       "      <td>N</td>\n",
       "      <td>Cl</td>\n",
       "      <td>C(C)#N</td>\n",
       "      <td>XFLMVRNRVDULNK-UHFFFAOYSA-N</td>\n",
       "      <td>HQABUPZFAYXKJW-UHFFFAOYSA-N</td>\n",
       "      <td>VEXZGXHMUGYJMC-UHFFFAOYSA-N</td>\n",
       "      <td>XFLMVRNRVDULNK-UHFFFAOYSA-N</td>\n",
       "      <td>298.0</td>\n",
       "    </tr>\n",
       "    <tr>\n",
       "      <th>1</th>\n",
       "      <td>CCCCN.O=[N+]([O-])c1cccnc1Cl&gt;&gt;CCCCNc1ncccc1[N+...</td>\n",
       "      <td>ClC1=C(C=CC=N1)N(=O)=O.CCCCN&gt;&gt;CCCCNC1=NC=CC=C1...</td>\n",
       "      <td>7.8</td>\n",
       "      <td>-13.3</td>\n",
       "      <td>-22.573525</td>\n",
       "      <td>-21.662381</td>\n",
       "      <td>-21.391297</td>\n",
       "      <td>20.164600</td>\n",
       "      <td>21.250192</td>\n",
       "      <td>21.575242</td>\n",
       "      <td>...</td>\n",
       "      <td>0.898877</td>\n",
       "      <td>1.334886</td>\n",
       "      <td>N</td>\n",
       "      <td>Cl</td>\n",
       "      <td>C(C)#N</td>\n",
       "      <td>ZNWRAFXHMOAZLG-UHFFFAOYSA-N</td>\n",
       "      <td>HQABUPZFAYXKJW-UHFFFAOYSA-N</td>\n",
       "      <td>VEXZGXHMUGYJMC-UHFFFAOYSA-N</td>\n",
       "      <td>ZNWRAFXHMOAZLG-UHFFFAOYSA-N</td>\n",
       "      <td>298.0</td>\n",
       "    </tr>\n",
       "    <tr>\n",
       "      <th>2</th>\n",
       "      <td>CCCCN.N#Cc1cc([N+](=O)[O-])ccc1Cl&gt;&gt;CCCCNc1ccc(...</td>\n",
       "      <td>N(=O)(=O)C1=CC=C(Cl)C(=C1)C#N.CCCCN&gt;&gt;CCCCNc1cc...</td>\n",
       "      <td>23.5</td>\n",
       "      <td>-13.3</td>\n",
       "      <td>-19.184607</td>\n",
       "      <td>-18.104664</td>\n",
       "      <td>-17.714353</td>\n",
       "      <td>20.347548</td>\n",
       "      <td>21.935146</td>\n",
       "      <td>22.471667</td>\n",
       "      <td>...</td>\n",
       "      <td>0.960115</td>\n",
       "      <td>1.363791</td>\n",
       "      <td>N</td>\n",
       "      <td>Cl</td>\n",
       "      <td>C(C)#N</td>\n",
       "      <td>JPXHHGMADNZXBT-UHFFFAOYSA-N</td>\n",
       "      <td>HQABUPZFAYXKJW-UHFFFAOYSA-N</td>\n",
       "      <td>VEXZGXHMUGYJMC-UHFFFAOYSA-N</td>\n",
       "      <td>JPXHHGMADNZXBT-UHFFFAOYSA-N</td>\n",
       "      <td>298.0</td>\n",
       "    </tr>\n",
       "    <tr>\n",
       "      <th>3</th>\n",
       "      <td>CCCCN.O=[N+]([O-])c1cc(C(F)(F)F)ccc1Cl&gt;&gt;CCCCNc...</td>\n",
       "      <td>FC(F)(F)C1=CC=C(Cl)C(=C1)N(=O)=O.CCCCN&gt;&gt;CCCCNC...</td>\n",
       "      <td>14.6</td>\n",
       "      <td>-13.3</td>\n",
       "      <td>-19.767273</td>\n",
       "      <td>-18.995436</td>\n",
       "      <td>-18.869935</td>\n",
       "      <td>21.422391</td>\n",
       "      <td>22.513002</td>\n",
       "      <td>22.700628</td>\n",
       "      <td>...</td>\n",
       "      <td>0.951981</td>\n",
       "      <td>1.369824</td>\n",
       "      <td>N</td>\n",
       "      <td>Cl</td>\n",
       "      <td>C(C)#N</td>\n",
       "      <td>NDULSBQKYMDLLE-UHFFFAOYSA-N</td>\n",
       "      <td>HQABUPZFAYXKJW-UHFFFAOYSA-N</td>\n",
       "      <td>VEXZGXHMUGYJMC-UHFFFAOYSA-N</td>\n",
       "      <td>NDULSBQKYMDLLE-UHFFFAOYSA-N</td>\n",
       "      <td>298.0</td>\n",
       "    </tr>\n",
       "    <tr>\n",
       "      <th>4</th>\n",
       "      <td>CCCCN.O=[N+]([O-])c1cccc([N+](=O)[O-])c1Cl&gt;&gt;CC...</td>\n",
       "      <td>ClC1=C(C=CC=C1N(=O)=O)N(=O)=O.CCCCN&gt;&gt;CCCCNC1=C...</td>\n",
       "      <td>13.2</td>\n",
       "      <td>-13.3</td>\n",
       "      <td>-18.289102</td>\n",
       "      <td>-17.436945</td>\n",
       "      <td>-17.140133</td>\n",
       "      <td>17.186188</td>\n",
       "      <td>18.374691</td>\n",
       "      <td>18.815830</td>\n",
       "      <td>...</td>\n",
       "      <td>0.990552</td>\n",
       "      <td>1.379160</td>\n",
       "      <td>N</td>\n",
       "      <td>Cl</td>\n",
       "      <td>C(C)#N</td>\n",
       "      <td>AVUXCSUXMFUMEO-UHFFFAOYSA-N</td>\n",
       "      <td>HQABUPZFAYXKJW-UHFFFAOYSA-N</td>\n",
       "      <td>VEXZGXHMUGYJMC-UHFFFAOYSA-N</td>\n",
       "      <td>AVUXCSUXMFUMEO-UHFFFAOYSA-N</td>\n",
       "      <td>298.0</td>\n",
       "    </tr>\n",
       "    <tr>\n",
       "      <th>...</th>\n",
       "      <td>...</td>\n",
       "      <td>...</td>\n",
       "      <td>...</td>\n",
       "      <td>...</td>\n",
       "      <td>...</td>\n",
       "      <td>...</td>\n",
       "      <td>...</td>\n",
       "      <td>...</td>\n",
       "      <td>...</td>\n",
       "      <td>...</td>\n",
       "      <td>...</td>\n",
       "      <td>...</td>\n",
       "      <td>...</td>\n",
       "      <td>...</td>\n",
       "      <td>...</td>\n",
       "      <td>...</td>\n",
       "      <td>...</td>\n",
       "      <td>...</td>\n",
       "      <td>...</td>\n",
       "      <td>...</td>\n",
       "      <td>...</td>\n",
       "    </tr>\n",
       "    <tr>\n",
       "      <th>470</th>\n",
       "      <td>CC(C)CN.O=[N+]([O-])c1ccc(Cl)c([N+](=O)[O-])c1...</td>\n",
       "      <td>Clc1ccc(cc1N(=O)=O)N(=O)=O.CC(C)CN&gt;&gt;CC(C)CNc1c...</td>\n",
       "      <td>23.3</td>\n",
       "      <td>-13.6</td>\n",
       "      <td>-22.744591</td>\n",
       "      <td>-21.945144</td>\n",
       "      <td>-21.765676</td>\n",
       "      <td>16.829053</td>\n",
       "      <td>17.997476</td>\n",
       "      <td>18.294915</td>\n",
       "      <td>...</td>\n",
       "      <td>0.996301</td>\n",
       "      <td>1.383156</td>\n",
       "      <td>N</td>\n",
       "      <td>Cl</td>\n",
       "      <td>C(C)O</td>\n",
       "      <td>HYHCZHIKPLOGQR-UHFFFAOYSA-N</td>\n",
       "      <td>KDSNLYIMUZNERS-UHFFFAOYSA-N</td>\n",
       "      <td>VEXZGXHMUGYJMC-UHFFFAOYSA-N</td>\n",
       "      <td>HYHCZHIKPLOGQR-UHFFFAOYSA-N</td>\n",
       "      <td>298.0</td>\n",
       "    </tr>\n",
       "    <tr>\n",
       "      <th>471</th>\n",
       "      <td>C1CCNCC1.O=[N+]([O-])c1ccc(Oc2ccccc2)c([N+](=O...</td>\n",
       "      <td>c1(Oc2ccccc2)ccc(cc1N(=O)=O)N(=O)=O.C2CCNCC2&gt;&gt;...</td>\n",
       "      <td>23.0</td>\n",
       "      <td>-12.7</td>\n",
       "      <td>-11.775591</td>\n",
       "      <td>-12.600139</td>\n",
       "      <td>-13.021825</td>\n",
       "      <td>19.698838</td>\n",
       "      <td>19.826222</td>\n",
       "      <td>19.540078</td>\n",
       "      <td>...</td>\n",
       "      <td>0.261072</td>\n",
       "      <td>1.277427</td>\n",
       "      <td>N</td>\n",
       "      <td>O</td>\n",
       "      <td>C(C)#N</td>\n",
       "      <td>MPGYUYKSTWTQFS-UHFFFAOYSA-N</td>\n",
       "      <td>NQRYJNQNLNOLGT-UHFFFAOYSA-N</td>\n",
       "      <td>ISWSIDIOOBJBQZ-UHFFFAOYSA-N</td>\n",
       "      <td>MPGYUYKSTWTQFS-UHFFFAOYSA-N</td>\n",
       "      <td>298.0</td>\n",
       "    </tr>\n",
       "    <tr>\n",
       "      <th>472</th>\n",
       "      <td>CCCCN.O=[N+]([O-])c1cccc([N+](=O)[O-])c1Oc1ccc...</td>\n",
       "      <td>c1(Oc2ccccc2)c(cccc1N(=O)=O)N(=O)=O.CCCCN&gt;&gt;CCC...</td>\n",
       "      <td>6.4</td>\n",
       "      <td>-13.0</td>\n",
       "      <td>-16.703200</td>\n",
       "      <td>-16.984952</td>\n",
       "      <td>-16.912161</td>\n",
       "      <td>17.093061</td>\n",
       "      <td>18.418361</td>\n",
       "      <td>18.997552</td>\n",
       "      <td>...</td>\n",
       "      <td>1.078376</td>\n",
       "      <td>1.379074</td>\n",
       "      <td>N</td>\n",
       "      <td>O</td>\n",
       "      <td>C(C)#N</td>\n",
       "      <td>AVUXCSUXMFUMEO-UHFFFAOYSA-N</td>\n",
       "      <td>HQABUPZFAYXKJW-UHFFFAOYSA-N</td>\n",
       "      <td>ISWSIDIOOBJBQZ-UHFFFAOYSA-N</td>\n",
       "      <td>AVUXCSUXMFUMEO-UHFFFAOYSA-N</td>\n",
       "      <td>298.0</td>\n",
       "    </tr>\n",
       "    <tr>\n",
       "      <th>473</th>\n",
       "      <td>CCCCN.N#Cc1cc([N+](=O)[O-])ccc1Oc1ccccc1&gt;&gt;CCCC...</td>\n",
       "      <td>N(=O)(=O)c1ccc(Oc2ccccc2)c(c1)C#N.CCCCN&gt;&gt;CCCCN...</td>\n",
       "      <td>23.4</td>\n",
       "      <td>-13.3</td>\n",
       "      <td>-16.621954</td>\n",
       "      <td>-16.898686</td>\n",
       "      <td>-16.898058</td>\n",
       "      <td>24.458697</td>\n",
       "      <td>25.443260</td>\n",
       "      <td>25.659750</td>\n",
       "      <td>...</td>\n",
       "      <td>0.319093</td>\n",
       "      <td>1.363767</td>\n",
       "      <td>N</td>\n",
       "      <td>O</td>\n",
       "      <td>C(C)#N</td>\n",
       "      <td>JPXHHGMADNZXBT-UHFFFAOYSA-N</td>\n",
       "      <td>HQABUPZFAYXKJW-UHFFFAOYSA-N</td>\n",
       "      <td>ISWSIDIOOBJBQZ-UHFFFAOYSA-N</td>\n",
       "      <td>JPXHHGMADNZXBT-UHFFFAOYSA-N</td>\n",
       "      <td>298.0</td>\n",
       "    </tr>\n",
       "    <tr>\n",
       "      <th>474</th>\n",
       "      <td>C1C[NH2+]CCN1.O=[N+]([O-])c1ccc(F)c([N+](=O)[O...</td>\n",
       "      <td>Fc1ccc(cc1N(=O)=O)N(=O)=O.[NH2+]1CCNCC1&gt;&gt;O=N(=...</td>\n",
       "      <td>29.8</td>\n",
       "      <td>59.1</td>\n",
       "      <td>-11.645879</td>\n",
       "      <td>-11.281296</td>\n",
       "      <td>-11.393620</td>\n",
       "      <td>16.717333</td>\n",
       "      <td>17.220596</td>\n",
       "      <td>17.132744</td>\n",
       "      <td>...</td>\n",
       "      <td>0.311956</td>\n",
       "      <td>1.241662</td>\n",
       "      <td>N</td>\n",
       "      <td>F</td>\n",
       "      <td>O</td>\n",
       "      <td>NHIZXWJIYCQIRS-UHFFFAOYSA-O</td>\n",
       "      <td>GLUUGHFHXGJENI-UHFFFAOYSA-O</td>\n",
       "      <td>KRHYYFGTRYWZRS-UHFFFAOYSA-N</td>\n",
       "      <td>NHIZXWJIYCQIRS-UHFFFAOYSA-O</td>\n",
       "      <td>298.0</td>\n",
       "    </tr>\n",
       "  </tbody>\n",
       "</table>\n",
       "<p>452 rows × 55 columns</p>\n",
       "</div>"
      ],
      "text/plain": [
       "                                       reaction_smiles  \\\n",
       "0    CCCCN.O=[N+]([O-])c1ccc(Cl)c([N+](=O)[O-])c1>>...   \n",
       "1    CCCCN.O=[N+]([O-])c1cccnc1Cl>>CCCCNc1ncccc1[N+...   \n",
       "2    CCCCN.N#Cc1cc([N+](=O)[O-])ccc1Cl>>CCCCNc1ccc(...   \n",
       "3    CCCCN.O=[N+]([O-])c1cc(C(F)(F)F)ccc1Cl>>CCCCNc...   \n",
       "4    CCCCN.O=[N+]([O-])c1cccc([N+](=O)[O-])c1Cl>>CC...   \n",
       "..                                                 ...   \n",
       "470  CC(C)CN.O=[N+]([O-])c1ccc(Cl)c([N+](=O)[O-])c1...   \n",
       "471  C1CCNCC1.O=[N+]([O-])c1ccc(Oc2ccccc2)c([N+](=O...   \n",
       "472  CCCCN.O=[N+]([O-])c1cccc([N+](=O)[O-])c1Oc1ccc...   \n",
       "473  CCCCN.N#Cc1cc([N+](=O)[O-])ccc1Oc1ccccc1>>CCCC...   \n",
       "474  C1C[NH2+]CCN1.O=[N+]([O-])c1ccc(F)c([N+](=O)[O...   \n",
       "\n",
       "                                  reaction_smiles_orig  v_av_central_atom  \\\n",
       "0    ClC1=CC=C(C=C1N(=O)=O)N(=O)=O.CCCCN>>CCCCNC1=C...               21.9   \n",
       "1    ClC1=C(C=CC=N1)N(=O)=O.CCCCN>>CCCCNC1=NC=CC=C1...                7.8   \n",
       "2    N(=O)(=O)C1=CC=C(Cl)C(=C1)C#N.CCCCN>>CCCCNc1cc...               23.5   \n",
       "3    FC(F)(F)C1=CC=C(Cl)C(=C1)N(=O)=O.CCCCN>>CCCCNC...               14.6   \n",
       "4    ClC1=C(C=CC=C1N(=O)=O)N(=O)=O.CCCCN>>CCCCNC1=C...               13.2   \n",
       "..                                                 ...                ...   \n",
       "470  Clc1ccc(cc1N(=O)=O)N(=O)=O.CC(C)CN>>CC(C)CNc1c...               23.3   \n",
       "471  c1(Oc2ccccc2)ccc(cc1N(=O)=O)N(=O)=O.C2CCNCC2>>...               23.0   \n",
       "472  c1(Oc2ccccc2)c(cccc1N(=O)=O)N(=O)=O.CCCCN>>CCC...                6.4   \n",
       "473  N(=O)(=O)c1ccc(Oc2ccccc2)c(c1)C#N.CCCCN>>CCCCN...               23.4   \n",
       "474  Fc1ccc(cc1N(=O)=O)N(=O)=O.[NH2+]1CCNCC1>>O=N(=...               29.8   \n",
       "\n",
       "     v_av_nu_atom  reaction_energy  reaction_energy_qh_grimme  \\\n",
       "0           -13.3       -22.311394                 -21.284788   \n",
       "1           -13.3       -22.573525                 -21.662381   \n",
       "2           -13.3       -19.184607                 -18.104664   \n",
       "3           -13.3       -19.767273                 -18.995436   \n",
       "4           -13.3       -18.289102                 -17.436945   \n",
       "..            ...              ...                        ...   \n",
       "470         -13.6       -22.744591                 -21.945144   \n",
       "471         -12.7       -11.775591                 -12.600139   \n",
       "472         -13.0       -16.703200                 -16.984952   \n",
       "473         -13.3       -16.621954                 -16.898686   \n",
       "474          59.1       -11.645879                 -11.281296   \n",
       "\n",
       "     reaction_energy_qh_truhlar  activation_energy  \\\n",
       "0                    -20.891967          18.140663   \n",
       "1                    -21.391297          20.164600   \n",
       "2                    -17.714353          20.347548   \n",
       "3                    -18.869935          21.422391   \n",
       "4                    -17.140133          17.186188   \n",
       "..                          ...                ...   \n",
       "470                  -21.765676          16.829053   \n",
       "471                  -13.021825          19.698838   \n",
       "472                  -16.912161          17.093061   \n",
       "473                  -16.898058          24.458697   \n",
       "474                  -11.393620          16.717333   \n",
       "\n",
       "     activation_energy_qh_grimme  activation_energy_qh_truhlar  ...  bo_lg_ts  \\\n",
       "0                      19.386269                     19.762147  ...  0.986291   \n",
       "1                      21.250192                     21.575242  ...  0.898877   \n",
       "2                      21.935146                     22.471667  ...  0.960115   \n",
       "3                      22.513002                     22.700628  ...  0.951981   \n",
       "4                      18.374691                     18.815830  ...  0.990552   \n",
       "..                           ...                           ...  ...       ...   \n",
       "470                    17.997476                     18.294915  ...  0.996301   \n",
       "471                    19.826222                     19.540078  ...  0.261072   \n",
       "472                    18.418361                     18.997552  ...  1.078376   \n",
       "473                    25.443260                     25.659750  ...  0.319093   \n",
       "474                    17.220596                     17.132744  ...  0.311956   \n",
       "\n",
       "     bo_prod_nu  nu_symbol  lg_symbol  solvent           inchikey_substrate  \\\n",
       "0      1.382835          N         Cl   C(C)#N  XFLMVRNRVDULNK-UHFFFAOYSA-N   \n",
       "1      1.334886          N         Cl   C(C)#N  ZNWRAFXHMOAZLG-UHFFFAOYSA-N   \n",
       "2      1.363791          N         Cl   C(C)#N  JPXHHGMADNZXBT-UHFFFAOYSA-N   \n",
       "3      1.369824          N         Cl   C(C)#N  NDULSBQKYMDLLE-UHFFFAOYSA-N   \n",
       "4      1.379160          N         Cl   C(C)#N  AVUXCSUXMFUMEO-UHFFFAOYSA-N   \n",
       "..          ...        ...        ...      ...                          ...   \n",
       "470    1.383156          N         Cl    C(C)O  HYHCZHIKPLOGQR-UHFFFAOYSA-N   \n",
       "471    1.277427          N          O   C(C)#N  MPGYUYKSTWTQFS-UHFFFAOYSA-N   \n",
       "472    1.379074          N          O   C(C)#N  AVUXCSUXMFUMEO-UHFFFAOYSA-N   \n",
       "473    1.363767          N          O   C(C)#N  JPXHHGMADNZXBT-UHFFFAOYSA-N   \n",
       "474    1.241662          N          F        O  NHIZXWJIYCQIRS-UHFFFAOYSA-O   \n",
       "\n",
       "                     inchikey_nu                  inchikey_lg  \\\n",
       "0    HQABUPZFAYXKJW-UHFFFAOYSA-N  VEXZGXHMUGYJMC-UHFFFAOYSA-N   \n",
       "1    HQABUPZFAYXKJW-UHFFFAOYSA-N  VEXZGXHMUGYJMC-UHFFFAOYSA-N   \n",
       "2    HQABUPZFAYXKJW-UHFFFAOYSA-N  VEXZGXHMUGYJMC-UHFFFAOYSA-N   \n",
       "3    HQABUPZFAYXKJW-UHFFFAOYSA-N  VEXZGXHMUGYJMC-UHFFFAOYSA-N   \n",
       "4    HQABUPZFAYXKJW-UHFFFAOYSA-N  VEXZGXHMUGYJMC-UHFFFAOYSA-N   \n",
       "..                           ...                          ...   \n",
       "470  KDSNLYIMUZNERS-UHFFFAOYSA-N  VEXZGXHMUGYJMC-UHFFFAOYSA-N   \n",
       "471  NQRYJNQNLNOLGT-UHFFFAOYSA-N  ISWSIDIOOBJBQZ-UHFFFAOYSA-N   \n",
       "472  HQABUPZFAYXKJW-UHFFFAOYSA-N  ISWSIDIOOBJBQZ-UHFFFAOYSA-N   \n",
       "473  HQABUPZFAYXKJW-UHFFFAOYSA-N  ISWSIDIOOBJBQZ-UHFFFAOYSA-N   \n",
       "474  GLUUGHFHXGJENI-UHFFFAOYSA-O  KRHYYFGTRYWZRS-UHFFFAOYSA-N   \n",
       "\n",
       "                inchikey_product  temperature  \n",
       "0    XFLMVRNRVDULNK-UHFFFAOYSA-N        298.0  \n",
       "1    ZNWRAFXHMOAZLG-UHFFFAOYSA-N        298.0  \n",
       "2    JPXHHGMADNZXBT-UHFFFAOYSA-N        298.0  \n",
       "3    NDULSBQKYMDLLE-UHFFFAOYSA-N        298.0  \n",
       "4    AVUXCSUXMFUMEO-UHFFFAOYSA-N        298.0  \n",
       "..                           ...          ...  \n",
       "470  HYHCZHIKPLOGQR-UHFFFAOYSA-N        298.0  \n",
       "471  MPGYUYKSTWTQFS-UHFFFAOYSA-N        298.0  \n",
       "472  AVUXCSUXMFUMEO-UHFFFAOYSA-N        298.0  \n",
       "473  JPXHHGMADNZXBT-UHFFFAOYSA-N        298.0  \n",
       "474  NHIZXWJIYCQIRS-UHFFFAOYSA-O        298.0  \n",
       "\n",
       "[452 rows x 55 columns]"
      ]
     },
     "execution_count": 172,
     "metadata": {},
     "output_type": "execute_result"
    }
   ],
   "source": [
    "df"
   ]
  },
  {
   "cell_type": "code",
   "execution_count": 173,
   "metadata": {},
   "outputs": [],
   "source": [
    "kinetic_df = pd.read_csv(\"../machine_learning/kinetic_data.csv\")"
   ]
  },
  {
   "cell_type": "code",
   "execution_count": 226,
   "metadata": {},
   "outputs": [
    {
     "data": {
      "text/plain": [
       "False    452\n",
       "dtype: int64"
      ]
     },
     "execution_count": 226,
     "metadata": {},
     "output_type": "execute_result"
    }
   ],
   "source": [
    "df.duplicated([\"reaction_smiles_orig\", \"solvent\", \"temperature\"]).value_counts()"
   ]
  },
  {
   "cell_type": "code",
   "execution_count": 219,
   "metadata": {},
   "outputs": [],
   "source": [
    "comp_1 = df[[\"reaction_smiles_orig\", \"solvent\", \"temperature\"]].copy()\n",
    "comp_1.columns = [\"reaction_smiles\", \"solvent\", \"temperature\"]\n",
    "comp_1[\"reaction_smiles\"] = comp_1[\"reaction_smiles\"].apply(lambda x: AllChem.ReactionToSmiles(AllChem.ReactionFromSmarts(x, useSmiles=True)))\n",
    "comp_1[\"solvent\"] = comp_1[\"solvent\"].apply(Chem.MolFromSmiles).apply(Chem.MolToInchiKey)"
   ]
  },
  {
   "cell_type": "code",
   "execution_count": 239,
   "metadata": {},
   "outputs": [],
   "source": [
    "comp_2 = kinetic_df[[\"reaction_smiles\", \"solvent_smiles\", \"temperature\", \"activation_energy\"]].copy()\n",
    "comp_2.columns = [\"reaction_smiles\", \"solvent\", \"temperature\", \"activation_energy\"]\n",
    "comp_2[\"reaction_smiles\"] = comp_2[\"reaction_smiles\"].apply(lambda x: AllChem.ReactionToSmiles(AllChem.ReactionFromSmarts(x, useSmiles=True)))\n",
    "comp_2[\"solvent\"] = comp_2[\"solvent\"].apply(Chem.MolFromSmiles).apply(Chem.MolToInchiKey)\n",
    "comp_2.groupby([\"reaction_smiles\", \"solvent\", \"temperature\"]).mean().reset_index()\n",
    "comp_2.drop_duplicates([\"reaction_smiles\", \"solvent\", \"temperature\"], inplace=True)"
   ]
  },
  {
   "cell_type": "code",
   "execution_count": 240,
   "metadata": {},
   "outputs": [],
   "source": [
    "merged_df = pd.merge(comp_1, comp_2, how=\"left\", on=[\"reaction_smiles\", \"solvent\", \"temperature\"], indicator=True)\n",
    "merged_df.index = df.index"
   ]
  },
  {
   "cell_type": "code",
   "execution_count": 241,
   "metadata": {},
   "outputs": [
    {
     "data": {
      "text/plain": [
       "both          449\n",
       "left_only       3\n",
       "right_only      0\n",
       "Name: _merge, dtype: int64"
      ]
     },
     "execution_count": 241,
     "metadata": {},
     "output_type": "execute_result"
    }
   ],
   "source": [
    "merged_df[\"_merge\"].value_counts()"
   ]
  },
  {
   "cell_type": "code",
   "execution_count": 251,
   "metadata": {},
   "outputs": [
    {
     "data": {
      "text/plain": [
       "array([['FC(F)(F)c1ccc(Cl)c(c1)C#N.CCCCN>>CCCCNc1ccc(cc1C#N)C(F)(F)F',\n",
       "        'C(C)#N'],\n",
       "       ['O=N(=O)c1ccc(Cl)nc1.CCCCN>>CCCCNc1ccc(cn1)N(=O)=O', 'C(C)#N'],\n",
       "       ['Fc1ccc(cc1N(=O)=O)N(=O)=O.[NH2+]1CCNCC1>>O=N(=O)c1ccc(N2CC[NH2+]CC2)c(c1)N(=O)=O',\n",
       "        'O']], dtype=object)"
      ]
     },
     "execution_count": 251,
     "metadata": {},
     "output_type": "execute_result"
    }
   ],
   "source": [
    "df[merged_df[\"_merge\"] == \"left_only\"][[\"reaction_smiles_orig\", \"solvent\"]].values"
   ]
  },
  {
   "cell_type": "code",
   "execution_count": null,
   "metadata": {},
   "outputs": [],
   "source": [
    "reaction."
   ]
  },
  {
   "cell_type": "code",
   "execution_count": null,
   "metadata": {},
   "outputs": [],
   "source": []
  },
  {
   "cell_type": "code",
   "execution_count": 274,
   "metadata": {},
   "outputs": [
    {
     "data": {
      "text/plain": [
       "'CCCCN.O=[N+]([O-])c1ccc(Cl)nc1>>CCCCNc1ccc([N+](=O)[O-])cn1'"
      ]
     },
     "execution_count": 274,
     "metadata": {},
     "output_type": "execute_result"
    }
   ],
   "source": [
    "reaction = AllChem.ReactionFromSmarts(\"CCCCN.c1cc(ncc1N(=O)=O)Cl>>CCCCNc1ccc(cn1)N(=O)=O\", useSmiles=True)\n",
    "for mol in list(reaction.GetReactants()) + list(reaction.GetProducts()):\n",
    "    Chem.SanitizeMol(mol)\n",
    "AllChem.SanitizeRxn(reaction, Chem.rdChemReactions.SANITIZE_ADJUST_REACTANTS)\n",
    "AllChem.ReactionToSmiles(reaction)"
   ]
  },
  {
   "cell_type": "code",
   "execution_count": 276,
   "metadata": {},
   "outputs": [
    {
     "data": {
      "text/plain": [
       "'O=[N+]([O-])c1ccc(F)cc1.[N-]=[N+]=[N-]>>[F-].[N-]=[N+]=Nc1ccc([N+](=O)[O-])cc1'"
      ]
     },
     "execution_count": 276,
     "metadata": {},
     "output_type": "execute_result"
    }
   ],
   "source": []
  },
  {
   "cell_type": "code",
   "execution_count": 279,
   "metadata": {},
   "outputs": [
    {
     "data": {
      "text/plain": [
       "'O=[N+]([O-])c1ccc(F)cc1.[N-]=[N+]=[N-]>>[F-].[N-]=[N+]=Nc1ccc([N+](=O)[O-])cc1'"
      ]
     },
     "execution_count": 279,
     "metadata": {},
     "output_type": "execute_result"
    }
   ],
   "source": [
    "AllChem.ReactionToSmiles(AllChem.ReactionFromSmarts(ReactionSmilesProcessor(\"O=[N+]([O-])c1ccc(F)cc1.[N-]=[N+]=[N-]>>[N-]=[N+]=Nc1ccc([N+](=O)[O-])cc1.[F-]\").reaction_smiles, useSmiles=True))"
   ]
  },
  {
   "cell_type": "code",
   "execution_count": 322,
   "metadata": {},
   "outputs": [
    {
     "data": {
      "text/html": [
       "<div>\n",
       "<style scoped>\n",
       "    .dataframe tbody tr th:only-of-type {\n",
       "        vertical-align: middle;\n",
       "    }\n",
       "\n",
       "    .dataframe tbody tr th {\n",
       "        vertical-align: top;\n",
       "    }\n",
       "\n",
       "    .dataframe thead th {\n",
       "        text-align: right;\n",
       "    }\n",
       "</style>\n",
       "<table border=\"1\" class=\"dataframe\">\n",
       "  <thead>\n",
       "    <tr style=\"text-align: right;\">\n",
       "      <th></th>\n",
       "      <th>reaction_smiles</th>\n",
       "      <th>reaction_smiles_orig</th>\n",
       "      <th>v_av_central_atom</th>\n",
       "      <th>v_av_nu_atom</th>\n",
       "      <th>reaction_energy</th>\n",
       "      <th>reaction_energy_qh_grimme</th>\n",
       "      <th>reaction_energy_qh_truhlar</th>\n",
       "      <th>activation_energy</th>\n",
       "      <th>activation_energy_qh_grimme</th>\n",
       "      <th>activation_energy_qh_truhlar</th>\n",
       "      <th>...</th>\n",
       "      <th>bo_lg_ts</th>\n",
       "      <th>bo_prod_nu</th>\n",
       "      <th>nu_symbol</th>\n",
       "      <th>lg_symbol</th>\n",
       "      <th>solvent</th>\n",
       "      <th>inchikey_substrate</th>\n",
       "      <th>inchikey_nu</th>\n",
       "      <th>inchikey_lg</th>\n",
       "      <th>inchikey_product</th>\n",
       "      <th>temperature</th>\n",
       "    </tr>\n",
       "  </thead>\n",
       "  <tbody>\n",
       "  </tbody>\n",
       "</table>\n",
       "<p>0 rows × 55 columns</p>\n",
       "</div>"
      ],
      "text/plain": [
       "Empty DataFrame\n",
       "Columns: [reaction_smiles, reaction_smiles_orig, v_av_central_atom, v_av_nu_atom, reaction_energy, reaction_energy_qh_grimme, reaction_energy_qh_truhlar, activation_energy, activation_energy_qh_grimme, activation_energy_qh_truhlar, sasa_nu, sasa_central, sasa_ratio_nu, sasa_ratio_central, epn_central, epn_nu, epn_lg, epn_central_ts, epn_nu_ts, epn_lg_ts, nu_charge, nu_charge_ts, central_charge, central_charge_ts, lg_charge, lg_charge_ts, nu_formed, lg_broken, omega, n, local_electrophilicity_center, local_nucleophilicity_nu, is_av, es_av, concerted, rds, flat_pes, p_int_central, p_int_nu, p_int_area_central, p_int_area_nu, bo_diff_nu, bo_diff_lg, bo_sub_lg, bo_nu_ts, bo_lg_ts, bo_prod_nu, nu_symbol, lg_symbol, solvent, inchikey_substrate, inchikey_nu, inchikey_lg, inchikey_product, temperature]\n",
       "Index: []\n",
       "\n",
       "[0 rows x 55 columns]"
      ]
     },
     "execution_count": 322,
     "metadata": {},
     "output_type": "execute_result"
    }
   ],
   "source": [
    "df[df[\"reaction_smiles\"] == \"O=[N+]([O-])c1ccc(Cl)nc1.CCCCN>>CCCCNc1ccc([N+](=O)[O-])cn1.Cl\"]"
   ]
  },
  {
   "cell_type": "code",
   "execution_count": 319,
   "metadata": {},
   "outputs": [
    {
     "data": {
      "text/html": [
       "<div>\n",
       "<style scoped>\n",
       "    .dataframe tbody tr th:only-of-type {\n",
       "        vertical-align: middle;\n",
       "    }\n",
       "\n",
       "    .dataframe tbody tr th {\n",
       "        vertical-align: top;\n",
       "    }\n",
       "\n",
       "    .dataframe thead th {\n",
       "        text-align: right;\n",
       "    }\n",
       "</style>\n",
       "<table border=\"1\" class=\"dataframe\">\n",
       "  <thead>\n",
       "    <tr style=\"text-align: right;\">\n",
       "      <th></th>\n",
       "      <th>ID</th>\n",
       "      <th>Exp_Rate_Constant k1 (M-1s-1)</th>\n",
       "      <th>Molecule</th>\n",
       "      <th>Modelled</th>\n",
       "      <th>Reaction_SMILES</th>\n",
       "      <th>Substrate_SMILES</th>\n",
       "      <th>Nucleophile_SMILES</th>\n",
       "      <th>Product_SMILES</th>\n",
       "      <th>RLPT</th>\n",
       "      <th>Original Data</th>\n",
       "      <th>...</th>\n",
       "      <th>Index</th>\n",
       "      <th>canonical_Substrate</th>\n",
       "      <th>canonical_Nucleophile</th>\n",
       "      <th>canonical_Product</th>\n",
       "      <th>canonical_reaction_smiles</th>\n",
       "      <th>reaction_mols</th>\n",
       "      <th>Duplicates</th>\n",
       "      <th>complete_reaction_smiles</th>\n",
       "      <th>influential_solvent</th>\n",
       "      <th>solvent_smiles</th>\n",
       "    </tr>\n",
       "  </thead>\n",
       "  <tbody>\n",
       "    <tr>\n",
       "      <th>2</th>\n",
       "      <td>3</td>\n",
       "      <td>0.000384</td>\n",
       "      <td>3a</td>\n",
       "      <td>Yes</td>\n",
       "      <td>ClC1=NC=C(C=C1)N(=O)=O.CCCCN&gt;&gt;CCCCNC1=NC=C(C=C...</td>\n",
       "      <td>ClC1=NC=C(C=C1)N(=O)=O</td>\n",
       "      <td>CCCCN</td>\n",
       "      <td>CCCCNC1=NC=C(C=C1)N(=O)=O</td>\n",
       "      <td>NaN</td>\n",
       "      <td>y</td>\n",
       "      <td>...</td>\n",
       "      <td>3</td>\n",
       "      <td>O=[N+]([O-])c1ccc(Cl)nc1</td>\n",
       "      <td>CCCCN</td>\n",
       "      <td>CCCCNc1ccc([N+](=O)[O-])cn1</td>\n",
       "      <td>O=[N+]([O-])c1ccc(Cl)nc1.CCCCN&gt;&gt;CCCCNC1=NC=C(C...</td>\n",
       "      <td>&lt;rdkit.Chem.rdChemReactions.ChemicalReaction o...</td>\n",
       "      <td>[]</td>\n",
       "      <td>CCCCN.O=[N+]([O-])c1ccc(Cl)nc1&gt;&gt;CCCCNc1ccc([N+...</td>\n",
       "      <td>Acetonitrile</td>\n",
       "      <td>C(C)#N</td>\n",
       "    </tr>\n",
       "    <tr>\n",
       "      <th>337</th>\n",
       "      <td>347</td>\n",
       "      <td>0.011000</td>\n",
       "      <td>Table4_2a</td>\n",
       "      <td>No</td>\n",
       "      <td>O=N(=O)c1ccc(Cl)nc1.CCCCN&gt;&gt;CCCCNc1ccc(cn1)N(=O)=O</td>\n",
       "      <td>O=N(=O)c1ccc(Cl)nc1</td>\n",
       "      <td>CCCCN</td>\n",
       "      <td>CCCCNc1ccc(cn1)N(=O)=O</td>\n",
       "      <td>NaN</td>\n",
       "      <td>NaN</td>\n",
       "      <td>...</td>\n",
       "      <td>347</td>\n",
       "      <td>O=[N+]([O-])c1ccc(Cl)nc1</td>\n",
       "      <td>CCCCN</td>\n",
       "      <td>CCCCNc1ccc([N+](=O)[O-])cn1</td>\n",
       "      <td>O=[N+]([O-])c1ccc(Cl)nc1.CCCCN&gt;&gt;CCCCNc1ccc(cn1...</td>\n",
       "      <td>&lt;rdkit.Chem.rdChemReactions.ChemicalReaction o...</td>\n",
       "      <td>[]</td>\n",
       "      <td>CCCCN.O=[N+]([O-])c1ccc(Cl)nc1&gt;&gt;CCCCNc1ccc([N+...</td>\n",
       "      <td>DMSO</td>\n",
       "      <td>CS(=O)C</td>\n",
       "    </tr>\n",
       "  </tbody>\n",
       "</table>\n",
       "<p>2 rows × 41 columns</p>\n",
       "</div>"
      ],
      "text/plain": [
       "      ID  Exp_Rate_Constant k1 (M-1s-1)   Molecule Modelled  \\\n",
       "2      3                       0.000384         3a      Yes   \n",
       "337  347                       0.011000  Table4_2a       No   \n",
       "\n",
       "                                       Reaction_SMILES  \\\n",
       "2    ClC1=NC=C(C=C1)N(=O)=O.CCCCN>>CCCCNC1=NC=C(C=C...   \n",
       "337  O=N(=O)c1ccc(Cl)nc1.CCCCN>>CCCCNc1ccc(cn1)N(=O)=O   \n",
       "\n",
       "           Substrate_SMILES Nucleophile_SMILES             Product_SMILES  \\\n",
       "2    ClC1=NC=C(C=C1)N(=O)=O              CCCCN  CCCCNC1=NC=C(C=C1)N(=O)=O   \n",
       "337     O=N(=O)c1ccc(Cl)nc1              CCCCN     CCCCNc1ccc(cn1)N(=O)=O   \n",
       "\n",
       "    RLPT Original Data  ...  Index       canonical_Substrate  \\\n",
       "2    NaN             y  ...      3  O=[N+]([O-])c1ccc(Cl)nc1   \n",
       "337  NaN           NaN  ...    347  O=[N+]([O-])c1ccc(Cl)nc1   \n",
       "\n",
       "     canonical_Nucleophile            canonical_Product  \\\n",
       "2                    CCCCN  CCCCNc1ccc([N+](=O)[O-])cn1   \n",
       "337                  CCCCN  CCCCNc1ccc([N+](=O)[O-])cn1   \n",
       "\n",
       "                             canonical_reaction_smiles  \\\n",
       "2    O=[N+]([O-])c1ccc(Cl)nc1.CCCCN>>CCCCNC1=NC=C(C...   \n",
       "337  O=[N+]([O-])c1ccc(Cl)nc1.CCCCN>>CCCCNc1ccc(cn1...   \n",
       "\n",
       "                                         reaction_mols Duplicates  \\\n",
       "2    <rdkit.Chem.rdChemReactions.ChemicalReaction o...         []   \n",
       "337  <rdkit.Chem.rdChemReactions.ChemicalReaction o...         []   \n",
       "\n",
       "                              complete_reaction_smiles influential_solvent  \\\n",
       "2    CCCCN.O=[N+]([O-])c1ccc(Cl)nc1>>CCCCNc1ccc([N+...        Acetonitrile   \n",
       "337  CCCCN.O=[N+]([O-])c1ccc(Cl)nc1>>CCCCNc1ccc([N+...                DMSO   \n",
       "\n",
       "    solvent_smiles  \n",
       "2           C(C)#N  \n",
       "337        CS(=O)C  \n",
       "\n",
       "[2 rows x 41 columns]"
      ]
     },
     "execution_count": 319,
     "metadata": {},
     "output_type": "execute_result"
    }
   ],
   "source": [
    "data_df[data_df[\"complete_reaction_smiles\"] == ReactionSmilesProcessor(\"O=[N+]([O-])c1ccc(Cl)nc1.CCCCN>>CCCCNc1ccc([N+](=O)[O-])cn1.Cl\").reaction_smiles]"
   ]
  },
  {
   "cell_type": "code",
   "execution_count": null,
   "metadata": {},
   "outputs": [],
   "source": []
  }
 ],
 "metadata": {
  "kernelspec": {
   "display_name": "Python [conda env:rdkit-env]",
   "language": "python",
   "name": "conda-env-rdkit-env-py"
  },
  "language_info": {
   "codemirror_mode": {
    "name": "ipython",
    "version": 3
   },
   "file_extension": ".py",
   "mimetype": "text/x-python",
   "name": "python",
   "nbconvert_exporter": "python",
   "pygments_lexer": "ipython3",
   "version": "3.7.7"
  }
 },
 "nbformat": 4,
 "nbformat_minor": 4
}
