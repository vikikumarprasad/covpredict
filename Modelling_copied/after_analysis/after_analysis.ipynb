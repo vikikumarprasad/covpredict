{
 "cells": [
  {
   "cell_type": "code",
   "execution_count": 1,
   "metadata": {},
   "outputs": [
    {
     "name": "stdout",
     "output_type": "stream",
     "text": [
      "fcntl not avaiable on Windows.\n",
      "resource not available on Windows.\n"
     ]
    }
   ],
   "source": [
    "from predict_snar.smiles import ReactionSmilesProcessor\n",
    "from predict_snar.data import SolventPicker\n",
    "from analyze_snar.extraction import extract_dataframe\n",
    "from rdkit import Chem\n",
    "from rdkit.Chem import AllChem\n",
    "import pandas as pd\n",
    "import numpy as np\n",
    "from joblib import Parallel, delayed"
   ]
  },
  {
   "cell_type": "markdown",
   "metadata": {},
   "source": [
    "Make functions for joblib parallelization"
   ]
  },
  {
   "cell_type": "code",
   "execution_count": 2,
   "metadata": {},
   "outputs": [],
   "source": [
    "def get_influential_solvent(solvent):\n",
    "    sp = SolventPicker()\n",
    "    influential_solvent = sp.get_influential_solvent(solvent)\n",
    "    return influential_solvent"
   ]
  },
  {
   "cell_type": "code",
   "execution_count": 3,
   "metadata": {},
   "outputs": [],
   "source": [
    "def get_solvent_smiles(solvent):\n",
    "    sp = SolventPicker()\n",
    "    influential_solvent = sp.smiles_from_name(solvent)\n",
    "    return influential_solvent    "
   ]
  },
  {
   "cell_type": "code",
   "execution_count": 4,
   "metadata": {},
   "outputs": [],
   "source": [
    "sp = SolventPicker()"
   ]
  },
  {
   "cell_type": "markdown",
   "metadata": {},
   "source": [
    "# Process kinetic database"
   ]
  },
  {
   "cell_type": "code",
   "execution_count": 659,
   "metadata": {},
   "outputs": [],
   "source": [
    "data_df = pd.read_excel(\"../prepare_kinetic_data/kinetic_data_v4.xlsx\")"
   ]
  },
  {
   "cell_type": "code",
   "execution_count": 660,
   "metadata": {},
   "outputs": [],
   "source": [
    "data_rsmps = data_df[\"Reaction_SMILES\"].apply(lambda x: ReactionSmilesProcessor(x))"
   ]
  },
  {
   "cell_type": "code",
   "execution_count": 454,
   "metadata": {},
   "outputs": [],
   "source": [
    "data_solvents = Parallel(n_jobs=4)(delayed(get_influential_solvent)(solvent) for solvent in data_df[\"Solvent\"])"
   ]
  },
  {
   "cell_type": "code",
   "execution_count": 416,
   "metadata": {},
   "outputs": [],
   "source": [
    "solvent_smiles_data = Parallel(n_jobs=4)(delayed(get_solvent_smiles)(solvent) for solvent in data_solvents)"
   ]
  },
  {
   "cell_type": "code",
   "execution_count": 661,
   "metadata": {},
   "outputs": [],
   "source": [
    "data_df[\"complete_reaction_smiles\"] = [AllChem.ReactionToSmiles(AllChem.ReactionFromSmarts(rsmp.reaction_smiles)) for rsmp in data_rsmps]"
   ]
  },
  {
   "cell_type": "code",
   "execution_count": 662,
   "metadata": {},
   "outputs": [],
   "source": [
    "data_df[\"influential_solvent\"] = data_solvents\n",
    "data_df[\"solvent_smiles\"] = solvent_smiles_data"
   ]
  },
  {
   "cell_type": "markdown",
   "metadata": {},
   "source": [
    "#### Investigate replicated reactions"
   ]
  },
  {
   "cell_type": "code",
   "execution_count": 663,
   "metadata": {},
   "outputs": [
    {
     "data": {
      "text/html": [
       "<div>\n",
       "<style scoped>\n",
       "    .dataframe tbody tr th:only-of-type {\n",
       "        vertical-align: middle;\n",
       "    }\n",
       "\n",
       "    .dataframe tbody tr th {\n",
       "        vertical-align: top;\n",
       "    }\n",
       "\n",
       "    .dataframe thead th {\n",
       "        text-align: right;\n",
       "    }\n",
       "</style>\n",
       "<table border=\"1\" class=\"dataframe\">\n",
       "  <thead>\n",
       "    <tr style=\"text-align: right;\">\n",
       "      <th></th>\n",
       "      <th>Reaction_SMILES</th>\n",
       "      <th>Exp_Rate_Constant k1 (M-1s-1)</th>\n",
       "      <th>Activation free Energy (kcal) Eyring</th>\n",
       "      <th>Solvent</th>\n",
       "      <th>Temp (K)</th>\n",
       "      <th>Reference</th>\n",
       "      <th>DOI</th>\n",
       "    </tr>\n",
       "  </thead>\n",
       "  <tbody>\n",
       "    <tr>\n",
       "      <th>26</th>\n",
       "      <td>FC1=CC=C(C=C1N(=O)=O)N(=O)=O.C3CCNCC3&gt;&gt;C3CCN(C...</td>\n",
       "      <td>150.000000</td>\n",
       "      <td>14.46</td>\n",
       "      <td>Acetonitrile</td>\n",
       "      <td>298.0</td>\n",
       "      <td>Eur. J.  Org. Chem, 2007, 1378</td>\n",
       "      <td>https://doi.org/10.1002/ejoc.200600968</td>\n",
       "    </tr>\n",
       "    <tr>\n",
       "      <th>108</th>\n",
       "      <td>Fc1ccc(cc1N(=O)=O)N(=O)=O.C1CCNCC1&gt;&gt;O=N(=O)c1c...</td>\n",
       "      <td>380.000000</td>\n",
       "      <td>13.91</td>\n",
       "      <td>Acetonitrile</td>\n",
       "      <td>298.0</td>\n",
       "      <td>J. Org. Chem., 2007, 72, 8797.</td>\n",
       "      <td>https://doi.org/doi/10.1021/jo701549h</td>\n",
       "    </tr>\n",
       "    <tr>\n",
       "      <th>139</th>\n",
       "      <td>Clc1ccc(cc1N(=O)=O)N(=O)=O.C1CCNCC1&gt;&gt;C2CCN(CC2...</td>\n",
       "      <td>0.015300</td>\n",
       "      <td>19.90</td>\n",
       "      <td>Ethanol</td>\n",
       "      <td>298.0</td>\n",
       "      <td>J. Chem. Soc., 1950, 507-516</td>\n",
       "      <td>https://doi.org/10.1039/JR9500000507</td>\n",
       "    </tr>\n",
       "    <tr>\n",
       "      <th>219</th>\n",
       "      <td>C1=CC(=CC=C1[N+](=O)[O-])F.[N-]=[N+]=[N-]&gt;&gt;[N-...</td>\n",
       "      <td>0.001738</td>\n",
       "      <td>21.18</td>\n",
       "      <td>TMS</td>\n",
       "      <td>298.0</td>\n",
       "      <td>J. Am. Chem. Soc.,1973, 95, 408-410</td>\n",
       "      <td>http://dx.doi.org/10.1021/ja00783a016</td>\n",
       "    </tr>\n",
       "    <tr>\n",
       "      <th>222</th>\n",
       "      <td>C1=CC(=CC=C1[N+](=O)[O-])F.[N-]=[N+]=[N-]&gt;&gt;[N-...</td>\n",
       "      <td>0.079500</td>\n",
       "      <td>18.92</td>\n",
       "      <td>HMPT</td>\n",
       "      <td>298.0</td>\n",
       "      <td>J. Am. Chem. Soc.,1973, 95, 408-410</td>\n",
       "      <td>http://dx.doi.org/10.1021/ja00783a016</td>\n",
       "    </tr>\n",
       "    <tr>\n",
       "      <th>467</th>\n",
       "      <td>C1=CC(=CC=C1[N+](=O)[O-])F.[N-]=[N+]=[N-]&gt;&gt;[N-...</td>\n",
       "      <td>1.258900</td>\n",
       "      <td>17.29</td>\n",
       "      <td>HMPT</td>\n",
       "      <td>298.0</td>\n",
       "      <td>J. Am. Chem. Soc., 1968, 90, 5049-5069</td>\n",
       "      <td>https://doi.org/10.1021/ja01021a002</td>\n",
       "    </tr>\n",
       "    <tr>\n",
       "      <th>468</th>\n",
       "      <td>C1=CC(=CC=C1[N+](=O)[O-])F.[N-]=[N+]=[N-]&gt;&gt;[N-...</td>\n",
       "      <td>0.001990</td>\n",
       "      <td>21.10</td>\n",
       "      <td>TMS</td>\n",
       "      <td>298.0</td>\n",
       "      <td>J. Am. Chem. Soc., 1968, 90, 5049-5069</td>\n",
       "      <td>https://doi.org/10.1021/ja01021a002</td>\n",
       "    </tr>\n",
       "    <tr>\n",
       "      <th>489</th>\n",
       "      <td>Clc1ccc(cc1N(=O)=O)N(=O)=O.C1CCNCC1&gt;&gt;O=N(=O)c1...</td>\n",
       "      <td>0.018000</td>\n",
       "      <td>19.80</td>\n",
       "      <td>Ethanol</td>\n",
       "      <td>298.0</td>\n",
       "      <td>J. Chem. Soc., Perkin Trans. 2, 1986, 1427-1431</td>\n",
       "      <td>http://dx.doi.org/10.1039/P29860001427</td>\n",
       "    </tr>\n",
       "  </tbody>\n",
       "</table>\n",
       "</div>"
      ],
      "text/plain": [
       "                                       Reaction_SMILES  \\\n",
       "26   FC1=CC=C(C=C1N(=O)=O)N(=O)=O.C3CCNCC3>>C3CCN(C...   \n",
       "108  Fc1ccc(cc1N(=O)=O)N(=O)=O.C1CCNCC1>>O=N(=O)c1c...   \n",
       "139  Clc1ccc(cc1N(=O)=O)N(=O)=O.C1CCNCC1>>C2CCN(CC2...   \n",
       "219  C1=CC(=CC=C1[N+](=O)[O-])F.[N-]=[N+]=[N-]>>[N-...   \n",
       "222  C1=CC(=CC=C1[N+](=O)[O-])F.[N-]=[N+]=[N-]>>[N-...   \n",
       "467  C1=CC(=CC=C1[N+](=O)[O-])F.[N-]=[N+]=[N-]>>[N-...   \n",
       "468  C1=CC(=CC=C1[N+](=O)[O-])F.[N-]=[N+]=[N-]>>[N-...   \n",
       "489  Clc1ccc(cc1N(=O)=O)N(=O)=O.C1CCNCC1>>O=N(=O)c1...   \n",
       "\n",
       "     Exp_Rate_Constant k1 (M-1s-1)  Activation free Energy (kcal) Eyring  \\\n",
       "26                      150.000000                                 14.46   \n",
       "108                     380.000000                                 13.91   \n",
       "139                       0.015300                                 19.90   \n",
       "219                       0.001738                                 21.18   \n",
       "222                       0.079500                                 18.92   \n",
       "467                       1.258900                                 17.29   \n",
       "468                       0.001990                                 21.10   \n",
       "489                       0.018000                                 19.80   \n",
       "\n",
       "          Solvent  Temp (K)                                        Reference  \\\n",
       "26   Acetonitrile     298.0                   Eur. J.  Org. Chem, 2007, 1378   \n",
       "108  Acetonitrile     298.0                   J. Org. Chem., 2007, 72, 8797.   \n",
       "139       Ethanol     298.0                     J. Chem. Soc., 1950, 507-516   \n",
       "219           TMS     298.0              J. Am. Chem. Soc.,1973, 95, 408-410   \n",
       "222          HMPT     298.0              J. Am. Chem. Soc.,1973, 95, 408-410   \n",
       "467          HMPT     298.0           J. Am. Chem. Soc., 1968, 90, 5049-5069   \n",
       "468           TMS     298.0           J. Am. Chem. Soc., 1968, 90, 5049-5069   \n",
       "489       Ethanol     298.0  J. Chem. Soc., Perkin Trans. 2, 1986, 1427-1431   \n",
       "\n",
       "                                        DOI  \n",
       "26   https://doi.org/10.1002/ejoc.200600968  \n",
       "108   https://doi.org/doi/10.1021/jo701549h  \n",
       "139    https://doi.org/10.1039/JR9500000507  \n",
       "219   http://dx.doi.org/10.1021/ja00783a016  \n",
       "222   http://dx.doi.org/10.1021/ja00783a016  \n",
       "467     https://doi.org/10.1021/ja01021a002  \n",
       "468     https://doi.org/10.1021/ja01021a002  \n",
       "489  http://dx.doi.org/10.1039/P29860001427  "
      ]
     },
     "execution_count": 663,
     "metadata": {},
     "output_type": "execute_result"
    }
   ],
   "source": [
    "data_df[data_df.duplicated([\"complete_reaction_smiles\", \"influential_solvent\", \"Temp (K)\"], keep=False)][[\"Reaction_SMILES\", 'Exp_Rate_Constant k1 (M-1s-1)', 'Activation free Energy (kcal) Eyring', 'Solvent', 'Temp (K)', 'Reference', 'DOI']]"
   ]
  },
  {
   "cell_type": "code",
   "execution_count": 664,
   "metadata": {},
   "outputs": [],
   "source": [
    "all_data_df = data_df.copy()"
   ]
  },
  {
   "cell_type": "code",
   "execution_count": 665,
   "metadata": {},
   "outputs": [],
   "source": [
    "data_df.drop_duplicates([\"complete_reaction_smiles\", \"influential_solvent\", \"Temp (K)\"], inplace=True)"
   ]
  },
  {
   "cell_type": "markdown",
   "metadata": {},
   "source": [
    "#### Drop examples with activation energies"
   ]
  },
  {
   "cell_type": "code",
   "execution_count": 667,
   "metadata": {},
   "outputs": [
    {
     "name": "stdout",
     "output_type": "stream",
     "text": [
      "(499, 41)\n",
      "(499, 41)\n"
     ]
    }
   ],
   "source": [
    "print(data_df.shape)\n",
    "data_df.dropna(subset=[\"Activation free Energy (kcal) Eyring\"], inplace=True)\n",
    "print(data_df.shape)"
   ]
  },
  {
   "cell_type": "markdown",
   "metadata": {},
   "source": [
    "# Process data which was submitted"
   ]
  },
  {
   "cell_type": "code",
   "execution_count": 668,
   "metadata": {},
   "outputs": [
    {
     "name": "stdout",
     "output_type": "stream",
     "text": [
      "(476, 3)\n"
     ]
    }
   ],
   "source": [
    "submitted_df = pd.read_csv(\"submitted_smiles\", sep=\" \", names=[\"reaction_smiles\", \"temperature\", \"solvent\"])\n",
    "print(submitted_df.shape)"
   ]
  },
  {
   "cell_type": "code",
   "execution_count": 669,
   "metadata": {},
   "outputs": [],
   "source": [
    "submitted_rsmps = submitted_df[\"reaction_smiles\"].apply(lambda x: ReactionSmilesProcessor(x))"
   ]
  },
  {
   "cell_type": "code",
   "execution_count": 670,
   "metadata": {},
   "outputs": [
    {
     "name": "stdout",
     "output_type": "stream",
     "text": [
      "(452, 4)\n"
     ]
    }
   ],
   "source": [
    "submitted_df[\"complete_reaction_smiles\"] = [AllChem.ReactionToSmiles(AllChem.ReactionFromSmarts(rsmp.reaction_smiles)) for rsmp in submitted_rsmps]\n",
    "submitted_df.drop_duplicates([\"complete_reaction_smiles\", \"temperature\", \"solvent\"], inplace=True)\n",
    "print(submitted_df.shape)"
   ]
  },
  {
   "cell_type": "code",
   "execution_count": 671,
   "metadata": {},
   "outputs": [],
   "source": [
    "comp_submitted = submitted_df[[\"complete_reaction_smiles\", \"solvent\", \"temperature\"]]\n",
    "comp_submitted.columns = [\"reaction_smiles\", \"solvent\", \"temperature\"]\n",
    "comp_data = data_df[[\"complete_reaction_smiles\", \"influential_solvent\", \"Temp (K)\"]]\n",
    "comp_data.columns = [\"reaction_smiles\", \"solvent\", \"temperature\"]"
   ]
  },
  {
   "cell_type": "code",
   "execution_count": 672,
   "metadata": {},
   "outputs": [
    {
     "data": {
      "text/plain": [
       "(452, 3)"
      ]
     },
     "execution_count": 672,
     "metadata": {},
     "output_type": "execute_result"
    }
   ],
   "source": [
    "comp_submitted.shape"
   ]
  },
  {
   "cell_type": "markdown",
   "metadata": {},
   "source": [
    "# Find submitted reactions not in the dataset"
   ]
  },
  {
   "cell_type": "code",
   "execution_count": 465,
   "metadata": {},
   "outputs": [],
   "source": [
    "sub_in_data = pd.merge(comp_submitted, comp_data, how=\"left\", on=[\"reaction_smiles\", \"solvent\", \"temperature\"], indicator=True)\n",
    "sub_in_data.index = comp_submitted.index"
   ]
  },
  {
   "cell_type": "code",
   "execution_count": 466,
   "metadata": {},
   "outputs": [],
   "source": [
    "left_only_sub = comp_submitted[sub_in_data[\"_merge\"] == \"left_only\"]\n",
    "both_sub = comp_submitted[sub_in_data[\"_merge\"] == \"both\"]"
   ]
  },
  {
   "cell_type": "code",
   "execution_count": 467,
   "metadata": {},
   "outputs": [
    {
     "data": {
      "text/plain": [
       "451"
      ]
     },
     "execution_count": 467,
     "metadata": {},
     "output_type": "execute_result"
    }
   ],
   "source": [
    "len(both_sub)"
   ]
  },
  {
   "cell_type": "code",
   "execution_count": 468,
   "metadata": {},
   "outputs": [
    {
     "data": {
      "text/html": [
       "<div>\n",
       "<style scoped>\n",
       "    .dataframe tbody tr th:only-of-type {\n",
       "        vertical-align: middle;\n",
       "    }\n",
       "\n",
       "    .dataframe tbody tr th {\n",
       "        vertical-align: top;\n",
       "    }\n",
       "\n",
       "    .dataframe thead th {\n",
       "        text-align: right;\n",
       "    }\n",
       "</style>\n",
       "<table border=\"1\" class=\"dataframe\">\n",
       "  <thead>\n",
       "    <tr style=\"text-align: right;\">\n",
       "      <th></th>\n",
       "      <th>reaction_smiles</th>\n",
       "      <th>solvent</th>\n",
       "      <th>temperature</th>\n",
       "    </tr>\n",
       "  </thead>\n",
       "  <tbody>\n",
       "    <tr>\n",
       "      <th>352</th>\n",
       "      <td>CCCCN.N#Cc1cc(C(F)(F)F)ccc1Cl&gt;&gt;CCCCNc1ccc(C(F)...</td>\n",
       "      <td>Acetonitrile</td>\n",
       "      <td>298.0</td>\n",
       "    </tr>\n",
       "  </tbody>\n",
       "</table>\n",
       "</div>"
      ],
      "text/plain": [
       "                                       reaction_smiles       solvent  \\\n",
       "352  CCCCN.N#Cc1cc(C(F)(F)F)ccc1Cl>>CCCCNc1ccc(C(F)...  Acetonitrile   \n",
       "\n",
       "     temperature  \n",
       "352        298.0  "
      ]
     },
     "execution_count": 468,
     "metadata": {},
     "output_type": "execute_result"
    }
   ],
   "source": [
    "comp_submitted[sub_in_data[\"_merge\"] == \"left_only\"]"
   ]
  },
  {
   "cell_type": "markdown",
   "metadata": {},
   "source": [
    "# Find reactions in dataset that were not submitted"
   ]
  },
  {
   "cell_type": "code",
   "execution_count": 469,
   "metadata": {},
   "outputs": [],
   "source": [
    "data_in_sub = pd.merge(comp_data, comp_submitted, how=\"left\", on=[\"reaction_smiles\", \"solvent\", \"temperature\"], indicator=True)\n",
    "data_in_sub.index = comp_data.index"
   ]
  },
  {
   "cell_type": "code",
   "execution_count": 470,
   "metadata": {},
   "outputs": [],
   "source": [
    "left_only_data = comp_data[data_in_sub[\"_merge\"] == \"left_only\"]\n",
    "both_data = comp_data[data_in_sub[\"_merge\"] == \"both\"]"
   ]
  },
  {
   "cell_type": "code",
   "execution_count": 471,
   "metadata": {},
   "outputs": [
    {
     "data": {
      "text/plain": [
       "Int64Index([347, 353, 469, 470, 471, 472, 473, 474, 475, 476, 477, 478, 479,\n",
       "            480, 481, 482, 483, 484, 485, 486, 487, 488, 490, 491, 492, 493,\n",
       "            494, 495, 496, 497, 498, 500, 501, 502, 503, 504, 505, 506, 507,\n",
       "            508, 510, 511, 512, 513, 514, 515, 516, 517],\n",
       "           dtype='int64')"
      ]
     },
     "execution_count": 471,
     "metadata": {},
     "output_type": "execute_result"
    }
   ],
   "source": [
    "left_only_data.index"
   ]
  },
  {
   "cell_type": "code",
   "execution_count": 472,
   "metadata": {},
   "outputs": [
    {
     "data": {
      "text/plain": [
       "48"
      ]
     },
     "execution_count": 472,
     "metadata": {},
     "output_type": "execute_result"
    }
   ],
   "source": [
    "len(left_only_data)"
   ]
  },
  {
   "cell_type": "markdown",
   "metadata": {},
   "source": [
    "# Analysis of completed reactions"
   ]
  },
  {
   "cell_type": "code",
   "execution_count": 489,
   "metadata": {},
   "outputs": [
    {
     "name": "stdout",
     "output_type": "stream",
     "text": [
      "(475, 55)\n"
     ]
    }
   ],
   "source": [
    "df = extract_dataframe(\"../machine_learning/2019-12-15/db\", or_lg_correction=True)\n",
    "print(df.shape)"
   ]
  },
  {
   "cell_type": "code",
   "execution_count": 490,
   "metadata": {},
   "outputs": [],
   "source": [
    "reactions = df[\"reaction_smiles\"].apply(lambda x: AllChem.ReactionFromSmarts(x, useSmiles=True))\n",
    "for reaction in reactions:\n",
    "    for mol in list(reaction.GetReactants()) + list(reaction.GetProducts()):\n",
    "        Chem.SanitizeMol(mol)\n",
    "df[\"reaction_smiles\"] = [AllChem.ReactionToSmiles(reaction) for reaction in reactions]"
   ]
  },
  {
   "cell_type": "code",
   "execution_count": 493,
   "metadata": {},
   "outputs": [
    {
     "name": "stdout",
     "output_type": "stream",
     "text": [
      "(452, 55)\n"
     ]
    }
   ],
   "source": [
    "df.drop_duplicates([\"reaction_smiles\", \"solvent\", \"temperature\"], inplace=True)\n",
    "print(df.shape)"
   ]
  },
  {
   "cell_type": "markdown",
   "metadata": {},
   "source": [
    "#### Investigate submitted jobs which were not finished\n",
    "Turns out that all jobs were finished"
   ]
  },
  {
   "cell_type": "code",
   "execution_count": 437,
   "metadata": {},
   "outputs": [],
   "source": [
    "solvent_smiles_sub = Parallel(n_jobs=4)(delayed(get_solvent_smiles)(solvent) for solvent in both_sub[\"solvent\"])"
   ]
  },
  {
   "cell_type": "code",
   "execution_count": 559,
   "metadata": {},
   "outputs": [],
   "source": [
    "good_sub = both_sub.copy()\n",
    "good_sub[\"solvent_name\"] = good_sub[\"solvent\"]\n",
    "good_sub[\"solvent\"] = solvent_smiles_sub"
   ]
  },
  {
   "cell_type": "code",
   "execution_count": 560,
   "metadata": {},
   "outputs": [],
   "source": [
    "finished = pd.merge(good_sub, df, how=\"left\", on=[\"reaction_smiles\", \"solvent\", \"temperature\"], indicator=True)\n",
    "finished.index = good_sub.index"
   ]
  },
  {
   "cell_type": "code",
   "execution_count": 561,
   "metadata": {},
   "outputs": [
    {
     "data": {
      "text/plain": [
       "both          451\n",
       "right_only      0\n",
       "left_only       0\n",
       "Name: _merge, dtype: int64"
      ]
     },
     "execution_count": 561,
     "metadata": {},
     "output_type": "execute_result"
    }
   ],
   "source": [
    "finished[\"_merge\"].value_counts()"
   ]
  },
  {
   "cell_type": "code",
   "execution_count": 500,
   "metadata": {},
   "outputs": [],
   "source": [
    "left_only = finished[finished[\"_merge\"] == \"left_only\"]"
   ]
  },
  {
   "cell_type": "code",
   "execution_count": 501,
   "metadata": {},
   "outputs": [
    {
     "data": {
      "text/html": [
       "<div>\n",
       "<style scoped>\n",
       "    .dataframe tbody tr th:only-of-type {\n",
       "        vertical-align: middle;\n",
       "    }\n",
       "\n",
       "    .dataframe tbody tr th {\n",
       "        vertical-align: top;\n",
       "    }\n",
       "\n",
       "    .dataframe thead th {\n",
       "        text-align: right;\n",
       "    }\n",
       "</style>\n",
       "<table border=\"1\" class=\"dataframe\">\n",
       "  <thead>\n",
       "    <tr style=\"text-align: right;\">\n",
       "      <th></th>\n",
       "      <th>reaction_smiles</th>\n",
       "      <th>solvent</th>\n",
       "      <th>temperature</th>\n",
       "      <th>reaction_smiles_orig</th>\n",
       "      <th>v_av_central_atom</th>\n",
       "      <th>v_av_nu_atom</th>\n",
       "      <th>reaction_energy</th>\n",
       "      <th>reaction_energy_qh_grimme</th>\n",
       "      <th>reaction_energy_qh_truhlar</th>\n",
       "      <th>activation_energy</th>\n",
       "      <th>...</th>\n",
       "      <th>bo_nu_ts</th>\n",
       "      <th>bo_lg_ts</th>\n",
       "      <th>bo_prod_nu</th>\n",
       "      <th>nu_symbol</th>\n",
       "      <th>lg_symbol</th>\n",
       "      <th>inchikey_substrate</th>\n",
       "      <th>inchikey_nu</th>\n",
       "      <th>inchikey_lg</th>\n",
       "      <th>inchikey_product</th>\n",
       "      <th>_merge</th>\n",
       "    </tr>\n",
       "  </thead>\n",
       "  <tbody>\n",
       "  </tbody>\n",
       "</table>\n",
       "<p>0 rows × 56 columns</p>\n",
       "</div>"
      ],
      "text/plain": [
       "Empty DataFrame\n",
       "Columns: [reaction_smiles, solvent, temperature, reaction_smiles_orig, v_av_central_atom, v_av_nu_atom, reaction_energy, reaction_energy_qh_grimme, reaction_energy_qh_truhlar, activation_energy, activation_energy_qh_grimme, activation_energy_qh_truhlar, sasa_nu, sasa_central, sasa_ratio_nu, sasa_ratio_central, epn_central, epn_nu, epn_lg, epn_central_ts, epn_nu_ts, epn_lg_ts, nu_charge, nu_charge_ts, central_charge, central_charge_ts, lg_charge, lg_charge_ts, nu_formed, lg_broken, omega, n, local_electrophilicity_center, local_nucleophilicity_nu, is_av, es_av, concerted, rds, flat_pes, p_int_central, p_int_nu, p_int_area_central, p_int_area_nu, bo_diff_nu, bo_diff_lg, bo_sub_lg, bo_nu_ts, bo_lg_ts, bo_prod_nu, nu_symbol, lg_symbol, inchikey_substrate, inchikey_nu, inchikey_lg, inchikey_product, _merge]\n",
       "Index: []\n",
       "\n",
       "[0 rows x 56 columns]"
      ]
     },
     "execution_count": 501,
     "metadata": {},
     "output_type": "execute_result"
    }
   ],
   "source": [
    "left_only"
   ]
  },
  {
   "cell_type": "code",
   "execution_count": 502,
   "metadata": {},
   "outputs": [],
   "source": [
    "extra_submitted = pd.merge(df, good_sub, how=\"left\", on=[\"reaction_smiles\", \"solvent\", \"temperature\"], indicator=True)\n",
    "extra_submitted.index = df.index"
   ]
  },
  {
   "cell_type": "code",
   "execution_count": 503,
   "metadata": {},
   "outputs": [
    {
     "data": {
      "text/plain": [
       "both          451\n",
       "left_only       1\n",
       "right_only      0\n",
       "Name: _merge, dtype: int64"
      ]
     },
     "execution_count": 503,
     "metadata": {},
     "output_type": "execute_result"
    }
   ],
   "source": [
    "extra_submitted[\"_merge\"].value_counts()"
   ]
  },
  {
   "cell_type": "code",
   "execution_count": 504,
   "metadata": {},
   "outputs": [
    {
     "data": {
      "text/plain": [
       "322    CCCCN.N#Cc1cc(C(F)(F)F)ccc1Cl>>CCCCNc1ccc(C(F)...\n",
       "Name: reaction_smiles, dtype: object"
      ]
     },
     "execution_count": 504,
     "metadata": {},
     "output_type": "execute_result"
    }
   ],
   "source": [
    "df[extra_submitted[\"_merge\"] == \"left_only\"][\"reaction_smiles\"]"
   ]
  },
  {
   "cell_type": "code",
   "execution_count": 505,
   "metadata": {},
   "outputs": [
    {
     "data": {
      "text/plain": [
       "array(['CCCCN.N#Cc1cc(C(F)(F)F)ccc1Cl>>CCCCNc1ccc(C(F)(F)F)cc1C#N.Cl'],\n",
       "      dtype=object)"
      ]
     },
     "execution_count": 505,
     "metadata": {},
     "output_type": "execute_result"
    }
   ],
   "source": [
    "df[extra_submitted[\"_merge\"] == \"left_only\"][\"reaction_smiles\"].values"
   ]
  },
  {
   "cell_type": "markdown",
   "metadata": {},
   "source": [
    "# Find status for reactions in dataset\n",
    "* Not submitted\n",
    "* Submitted\n",
    "* Failed\n",
    "* Not treated"
   ]
  },
  {
   "cell_type": "markdown",
   "metadata": {},
   "source": [
    "Failed reactions:\n",
    "\n",
    "| index | reason |\n",
    "| ----- | ------ |\n",
    "| 201   | TMS    |\n",
    "| 66    | TS     |\n",
    "| 185   | TS     |\n",
    "| 339   | TS     |\n",
    "| 457   | TS     |\n",
    "| 364   | C nu   |\n",
    "| 365   | C nu   |"
   ]
  },
  {
   "cell_type": "code",
   "execution_count": 529,
   "metadata": {},
   "outputs": [],
   "source": [
    "non_submitted = left_only_data.index\n",
    "failed = pd.Index([66, 185, 339, 457, 364, 365])\n",
    "non_treated = pd.Index([201, 474])\n",
    "wrongly_submitted = pd.Index([322])"
   ]
  },
  {
   "cell_type": "markdown",
   "metadata": {},
   "source": [
    "Check that numbers add up"
   ]
  },
  {
   "cell_type": "code",
   "execution_count": 536,
   "metadata": {},
   "outputs": [],
   "source": [
    "n_good = len(df) - len(non_treated) - len(wrongly_submitted)\n",
    "n_successful = n_good - len(failed)\n",
    "n_failed = len(failed)"
   ]
  },
  {
   "cell_type": "code",
   "execution_count": 539,
   "metadata": {},
   "outputs": [
    {
     "name": "stdout",
     "output_type": "stream",
     "text": [
      "Good submitted reactions: 449\n",
      "Successful reactions: 443\n",
      "Failed reactions: 6\n",
      "Percentage failures: 1.34\n"
     ]
    }
   ],
   "source": [
    "print(\"Good submitted reactions:\", n_good)\n",
    "print(\"Successful reactions:\", n_successful)\n",
    "print(\"Failed reactions:\", n_failed)\n",
    "print(f\"Percentage failures: {(n_failed / n_good) * 100:.2f}\")"
   ]
  },
  {
   "cell_type": "code",
   "execution_count": 607,
   "metadata": {},
   "outputs": [],
   "source": [
    "labels_df = df.copy()\n",
    "labels_df[\"label\"] = \"modelled\"\n",
    "labels_df.loc[failed, \"label\"] = \"failed\"\n",
    "labels_df.loc[non_treated, \"label\"] = \"removed\"\n",
    "labels_df.loc[wrongly_submitted, \"label\"] = \"wrong\""
   ]
  },
  {
   "cell_type": "code",
   "execution_count": 608,
   "metadata": {},
   "outputs": [
    {
     "data": {
      "text/plain": [
       "modelled    443\n",
       "failed        6\n",
       "removed       2\n",
       "wrong         1\n",
       "Name: label, dtype: int64"
      ]
     },
     "execution_count": 608,
     "metadata": {},
     "output_type": "execute_result"
    }
   ],
   "source": [
    "labels_df[\"label\"].value_counts()"
   ]
  },
  {
   "cell_type": "code",
   "execution_count": 609,
   "metadata": {},
   "outputs": [],
   "source": [
    "labels_merged = pd.merge(good_sub, labels_df, how=\"left\", on=[\"reaction_smiles\", \"solvent\", \"temperature\"])"
   ]
  },
  {
   "cell_type": "code",
   "execution_count": 673,
   "metadata": {},
   "outputs": [],
   "source": [
    "data_labels_merged = pd.merge(comp_data, labels_merged, how=\"left\", left_on=[\"reaction_smiles\", \"solvent\", \"temperature\"], right_on=[\"reaction_smiles\", \"solvent_name\", \"temperature\"], indicator=True)"
   ]
  },
  {
   "cell_type": "code",
   "execution_count": 674,
   "metadata": {},
   "outputs": [
    {
     "data": {
      "text/plain": [
       "both          451\n",
       "left_only      48\n",
       "right_only      0\n",
       "Name: _merge, dtype: int64"
      ]
     },
     "execution_count": 674,
     "metadata": {},
     "output_type": "execute_result"
    }
   ],
   "source": [
    "data_labels_merged[\"_merge\"].value_counts()"
   ]
  },
  {
   "cell_type": "code",
   "execution_count": 675,
   "metadata": {},
   "outputs": [],
   "source": [
    "data_labels_merged[\"label\"] = data_labels_merged[\"label\"].fillna(\"not modelled\")"
   ]
  },
  {
   "cell_type": "code",
   "execution_count": 676,
   "metadata": {},
   "outputs": [
    {
     "data": {
      "text/plain": [
       "modelled        443\n",
       "not modelled     48\n",
       "failed            6\n",
       "removed           2\n",
       "Name: label, dtype: int64"
      ]
     },
     "execution_count": 676,
     "metadata": {},
     "output_type": "execute_result"
    }
   ],
   "source": [
    "data_labels_merged[\"label\"].value_counts()"
   ]
  },
  {
   "cell_type": "code",
   "execution_count": 677,
   "metadata": {},
   "outputs": [
    {
     "data": {
      "text/plain": [
       "518"
      ]
     },
     "execution_count": 677,
     "metadata": {},
     "output_type": "execute_result"
    }
   ],
   "source": [
    "len(all_data_df)"
   ]
  },
  {
   "cell_type": "code",
   "execution_count": 678,
   "metadata": {},
   "outputs": [
    {
     "data": {
      "text/plain": [
       "499"
      ]
     },
     "execution_count": 678,
     "metadata": {},
     "output_type": "execute_result"
    }
   ],
   "source": [
    "len(data_labels_merged)"
   ]
  },
  {
   "cell_type": "code",
   "execution_count": 679,
   "metadata": {},
   "outputs": [
    {
     "data": {
      "text/plain": [
       "518"
      ]
     },
     "execution_count": 679,
     "metadata": {},
     "output_type": "execute_result"
    }
   ],
   "source": [
    "len(all_data_df)"
   ]
  },
  {
   "cell_type": "code",
   "execution_count": 702,
   "metadata": {},
   "outputs": [],
   "source": [
    "test_df = pd.merge(all_data_df, data_labels_merged.drop([\"_merge\"], axis=1), how=\"left\", left_on=[\"complete_reaction_smiles\", \"influential_solvent\", \"Temp (K)\"], right_on=[\"reaction_smiles\", \"solvent_x\", \"temperature\"], indicator=True)"
   ]
  },
  {
   "cell_type": "code",
   "execution_count": 703,
   "metadata": {},
   "outputs": [
    {
     "data": {
      "text/plain": [
       "518"
      ]
     },
     "execution_count": 703,
     "metadata": {},
     "output_type": "execute_result"
    }
   ],
   "source": [
    "len(test_df)"
   ]
  },
  {
   "cell_type": "code",
   "execution_count": 704,
   "metadata": {},
   "outputs": [],
   "source": [
    "test_df[\"label\"] = test_df[\"label\"].fillna(\"missing data\")"
   ]
  },
  {
   "cell_type": "code",
   "execution_count": 705,
   "metadata": {},
   "outputs": [
    {
     "data": {
      "text/plain": [
       "modelled        446\n",
       "not modelled     48\n",
       "missing data     15\n",
       "failed            6\n",
       "removed           3\n",
       "Name: label, dtype: int64"
      ]
     },
     "execution_count": 705,
     "metadata": {},
     "output_type": "execute_result"
    }
   ],
   "source": [
    "test_df[\"label\"].value_counts()"
   ]
  },
  {
   "cell_type": "code",
   "execution_count": 706,
   "metadata": {},
   "outputs": [],
   "source": [
    "test_df[\"label\"].to_csv(\"labels.csv\", index=False, header=False)"
   ]
  },
  {
   "cell_type": "code",
   "execution_count": 708,
   "metadata": {},
   "outputs": [],
   "source": [
    "labels = test_df[\"label\"]"
   ]
  },
  {
   "cell_type": "code",
   "execution_count": 714,
   "metadata": {},
   "outputs": [
    {
     "name": "stdout",
     "output_type": "stream",
     "text": [
      "26     modelled\n",
      "108    modelled\n",
      "Name: label, dtype: object\n",
      "139    modelled\n",
      "489    modelled\n",
      "Name: label, dtype: object\n",
      "219    removed\n",
      "468    removed\n",
      "Name: label, dtype: object\n",
      "222    modelled\n",
      "467    modelled\n",
      "Name: label, dtype: object\n"
     ]
    }
   ],
   "source": [
    "print(labels.loc[[26, 108]])\n",
    "print(labels.loc[[139, 489]])\n",
    "print(labels.loc[[219, 468]])\n",
    "print(labels.loc[[222, 467]])"
   ]
  },
  {
   "cell_type": "code",
   "execution_count": null,
   "metadata": {},
   "outputs": [],
   "source": []
  }
 ],
 "metadata": {
  "kernelspec": {
   "display_name": "Python [conda env:rdkit-env]",
   "language": "python",
   "name": "conda-env-rdkit-env-py"
  },
  "language_info": {
   "codemirror_mode": {
    "name": "ipython",
    "version": 3
   },
   "file_extension": ".py",
   "mimetype": "text/x-python",
   "name": "python",
   "nbconvert_exporter": "python",
   "pygments_lexer": "ipython3",
   "version": "3.7.7"
  }
 },
 "nbformat": 4,
 "nbformat_minor": 4
}
