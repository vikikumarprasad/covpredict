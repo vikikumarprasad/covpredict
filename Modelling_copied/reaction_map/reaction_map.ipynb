{
 "cells": [
  {
   "cell_type": "markdown",
   "metadata": {},
   "source": [
    "# Import stuff"
   ]
  },
  {
   "cell_type": "code",
   "execution_count": 1,
   "metadata": {},
   "outputs": [],
   "source": [
    "import tmap as tm\n",
    "import numpy as np\n",
    "import matplotlib.pyplot as plt\n",
    "from matplotlib.colors import ListedColormap\n",
    "from matplotlib.colors import LinearSegmentedColormap\n",
    "\n",
    "import pandas as pd\n",
    "from faerun import Faerun"
   ]
  },
  {
   "cell_type": "markdown",
   "metadata": {},
   "source": [
    "# Load fingerprints and encode them"
   ]
  },
  {
   "cell_type": "code",
   "execution_count": null,
   "metadata": {},
   "outputs": [],
   "source": [
    "mh_encoder = tm.Minhash()\n",
    "lf = tm.LSHForest(256, 128)"
   ]
  },
  {
   "cell_type": "code",
   "execution_count": 3,
   "metadata": {},
   "outputs": [],
   "source": [
    "fps = pd.read_csv(\"ibm_rxnfp.csv\", header=None)\n",
    "mhfps = [mh_encoder.from_weight_array(fp, method=\"I2CWS\") for fp in fps.values.tolist()]"
   ]
  },
  {
   "cell_type": "markdown",
   "metadata": {},
   "source": [
    "# Load data and create groups"
   ]
  },
  {
   "cell_type": "markdown",
   "metadata": {},
   "source": [
    "Nucleophiles and leaving groups"
   ]
  },
  {
   "cell_type": "code",
   "execution_count": 4,
   "metadata": {},
   "outputs": [],
   "source": [
    "processed_data = pd.read_csv(\"processed_data.csv\")\n"
   ]
  },
  {
   "cell_type": "code",
   "execution_count": 5,
   "metadata": {},
   "outputs": [],
   "source": [
    "nu_symbols = processed_data[\"nu_symbol\"].values\n",
    "lg_symbols = processed_data[\"lg_symbol\"].values\n",
    "labels_groups_nu, groups_nu = Faerun.create_categories(nu_symbols)\n",
    "labels_groups_lg, groups_lg = Faerun.create_categories(lg_symbols)"
   ]
  },
  {
   "cell_type": "markdown",
   "metadata": {},
   "source": [
    "Reaction smiles labels"
   ]
  },
  {
   "cell_type": "code",
   "execution_count": 6,
   "metadata": {},
   "outputs": [],
   "source": [
    "reaction_smiles = processed_data[\"reaction_smiles\"].values\n",
    "labels = reaction_smiles"
   ]
  },
  {
   "cell_type": "markdown",
   "metadata": {},
   "source": [
    "# Create tree"
   ]
  },
  {
   "cell_type": "code",
   "execution_count": 9,
   "metadata": {},
   "outputs": [],
   "source": [
    "# slow\n",
    "lf.batch_add(mhfps)\n",
    "lf.index()\n",
    "\n",
    "# Layout\n",
    "cfg = tm.LayoutConfiguration()\n",
    "cfg.k = 100\n",
    "cfg.kc = 100\n",
    "\n",
    "custom_cm_nu = plt.get_cmap(\"tab10\")\n",
    "custom_cm_lg = plt.get_cmap(\"tab10\")\n",
    "\n",
    "# Get tree coordinates\n",
    "x, y, s, t, _ = tm.layout_from_lsh_forest(lf, config=cfg, create_mst=True)"
   ]
  },
  {
   "cell_type": "markdown",
   "metadata": {},
   "source": [
    "# Display tree "
   ]
  },
  {
   "cell_type": "code",
   "execution_count": 11,
   "metadata": {},
   "outputs": [
    {
     "data": {
      "text/html": [
       "\n",
       "        <iframe\n",
       "            width=\"100%\"\n",
       "            height=\"500\"\n",
       "            src=\"./index.html\"\n",
       "            frameborder=\"0\"\n",
       "            allowfullscreen\n",
       "        ></iframe>\n",
       "        "
      ],
      "text/plain": [
       "<IPython.lib.display.IFrame at 0x7f6123726ac8>"
      ]
     },
     "metadata": {},
     "output_type": "display_data"
    },
    {
     "data": {
      "text/html": [
       "<a href='./index.html' target='_blank'>./index.html</a><br>"
      ],
      "text/plain": [
       "/home/kjell/python/tmap/index.html"
      ]
     },
     "metadata": {},
     "output_type": "display_data"
    }
   ],
   "source": [
    "f = Faerun(clear_color=\"#ffffff\", coords=False, view=\"front\",)\n",
    "    \n",
    "f.add_scatter(\n",
    "    \"SNAr\",\n",
    "    {\n",
    "        \"x\": x,\n",
    "        \"y\": y,\n",
    "        \"c\": [groups_nu, groups_lg],\n",
    "        \"labels\": reaction_smiles\n",
    "    },\n",
    "    categorical=[True, True],\n",
    "    legend_labels=[labels_groups_nu, labels_groups_lg],\n",
    "    colormap=[custom_cm_nu, custom_cm_lg],\n",
    "    has_legend=True,\n",
    "    series_title=[\"Nu symbols\", \"Lg symbols\"],\n",
    "    point_scale=10,\n",
    "    shader=\"smoothCircle\",\n",
    ")\n",
    "f.add_tree(\"SNAr_tree\", {\"from\": s, \"to\": t}, point_helper=\"SNAr\")\n",
    "\n",
    "f.plot(template=\"reaction_smiles\")"
   ]
  },
  {
   "cell_type": "markdown",
   "metadata": {},
   "source": [
    "# Save tree "
   ]
  },
  {
   "cell_type": "code",
   "execution_count": 15,
   "metadata": {},
   "outputs": [],
   "source": [
    "import pickle"
   ]
  },
  {
   "cell_type": "code",
   "execution_count": 19,
   "metadata": {},
   "outputs": [],
   "source": [
    "with open(\"x.pickle\", \"wb\") as file:\n",
    "    pickle.dump(np.array(x), file)\n",
    "with open(\"y.pickle\", \"wb\") as file:\n",
    "    pickle.dump(np.array(y), file)\n",
    "with open(\"s.pickle\", \"wb\") as file:\n",
    "    pickle.dump(np.array(s), file)\n",
    "with open(\"t.pickle\", \"wb\") as file:\n",
    "    pickle.dump(np.array(t), file)   "
   ]
  }
 ],
 "metadata": {
  "kernelspec": {
   "display_name": "Python 3",
   "language": "python",
   "name": "python3"
  },
  "language_info": {
   "codemirror_mode": {
    "name": "ipython",
    "version": 3
   },
   "file_extension": ".py",
   "mimetype": "text/x-python",
   "name": "python",
   "nbconvert_exporter": "python",
   "pygments_lexer": "ipython3",
   "version": "3.7.3"
  }
 },
 "nbformat": 4,
 "nbformat_minor": 4
}
