{
 "cells": [
  {
   "cell_type": "code",
   "execution_count": 1,
   "metadata": {},
   "outputs": [
    {
     "name": "stderr",
     "output_type": "stream",
     "text": [
      "RDKit WARNING: [16:29:23] Enabling RDKit 2019.09.3 jupyter extensions\n"
     ]
    }
   ],
   "source": [
    "from rdkit import Chem\n",
    "from rdkit.Chem import AllChem\n",
    "from rdkit.Chem.Draw import IPythonConsole\n",
    "import pandas as pd\n",
    "from sklearn.preprocessing import StandardScaler\n",
    "from scipy.spatial.distance import cdist\n",
    "import numpy as np\n",
    "import pickle\n",
    "import subprocess"
   ]
  },
  {
   "cell_type": "markdown",
   "metadata": {},
   "source": [
    "# David Hose's solvents"
   ]
  },
  {
   "cell_type": "markdown",
   "metadata": {},
   "source": [
    "Read in PCA dimensions data from DH's article"
   ]
  },
  {
   "cell_type": "code",
   "execution_count": 3,
   "metadata": {},
   "outputs": [],
   "source": [
    "df = pd.read_csv(\"DH_solvents.csv\")"
   ]
  },
  {
   "cell_type": "markdown",
   "metadata": {},
   "source": [
    "Canonicalize SMILES and get InChIKeys"
   ]
  },
  {
   "cell_type": "code",
   "execution_count": 4,
   "metadata": {},
   "outputs": [],
   "source": [
    "df[\"inchikey\"] = df[\"SMILES\"].apply(Chem.MolFromSmiles).apply(Chem.MolToInchiKey)\n",
    "df[\"smiles\"] = df[\"SMILES\"].apply(Chem.MolFromSmiles).apply(Chem.MolToSmiles)"
   ]
  },
  {
   "cell_type": "markdown",
   "metadata": {},
   "source": [
    "Save data to csv file for use in modelling"
   ]
  },
  {
   "cell_type": "code",
   "execution_count": 7,
   "metadata": {},
   "outputs": [],
   "source": [
    "out_df = df[[\"inchikey\", \"smiles\", \"Name\", \"PC1\", \"PC2\", \"PC3\", \"PC4\", \"PC5\"]]\n",
    "out_df.columns = [\"inchikey\", \"smiles\", \"name\", \"pc_1\", \"pc_2\", \"pc_3\", \"pc_4\", \"pc_5\"]\n",
    "out_df = out_df.drop_duplicates(\"inchikey\")\n",
    "out_df.to_csv(\"solvents.csv\", index=False)"
   ]
  },
  {
   "cell_type": "markdown",
   "metadata": {},
   "source": [
    "Save also as pickle file"
   ]
  },
  {
   "cell_type": "code",
   "execution_count": 8,
   "metadata": {},
   "outputs": [],
   "source": [
    "out_df = out_df.set_index(\"inchikey\")"
   ]
  },
  {
   "cell_type": "code",
   "execution_count": 9,
   "metadata": {},
   "outputs": [],
   "source": [
    "with open(\"solvents.pickle\", \"wb\") as file:\n",
    "    pickle.dump(out_df.to_dict('index'), file)"
   ]
  },
  {
   "cell_type": "markdown",
   "metadata": {},
   "source": [
    "# Standard states"
   ]
  },
  {
   "cell_type": "markdown",
   "metadata": {},
   "source": [
    "Read standard states taken from DH data"
   ]
  },
  {
   "cell_type": "code",
   "execution_count": 10,
   "metadata": {},
   "outputs": [],
   "source": [
    "df = pd.read_csv(\"standard_states.csv\")"
   ]
  },
  {
   "cell_type": "markdown",
   "metadata": {},
   "source": [
    "Canonicalize"
   ]
  },
  {
   "cell_type": "code",
   "execution_count": 11,
   "metadata": {},
   "outputs": [],
   "source": [
    "df[\"csmiles\"] = df[\"smiles\"].apply(Chem.MolFromSmiles).apply(Chem.MolToSmiles)\n",
    "df[\"inchikey\"] = df[\"smiles\"].apply(Chem.MolFromSmiles).apply(Chem.MolToInchiKey)"
   ]
  },
  {
   "cell_type": "markdown",
   "metadata": {},
   "source": [
    "Save pickle file"
   ]
  },
  {
   "cell_type": "code",
   "execution_count": 12,
   "metadata": {},
   "outputs": [],
   "source": [
    "out_df = df[[\"inchikey\", \"csmiles\", \"name\", \"standard_state\", \"molar_volume\"]]\n",
    "out_df.columns = [\"inchikey\", \"smiles\", \"name\", \"standard_state\", \"molar_volume\"]\n",
    "out_df = out_df.drop_duplicates(\"inchikey\")\n",
    "out_df = out_df.set_index(\"inchikey\")"
   ]
  },
  {
   "cell_type": "code",
   "execution_count": 13,
   "metadata": {},
   "outputs": [],
   "source": [
    "with open(\"standard_states.pickle\", \"wb\") as file:\n",
    "    pickle.dump(out_df.to_dict('index'), file)"
   ]
  },
  {
   "cell_type": "markdown",
   "metadata": {},
   "source": [
    "# Gaussian solvents"
   ]
  },
  {
   "cell_type": "markdown",
   "metadata": {},
   "source": [
    "Read Gaussian solvents and epsilon values from file"
   ]
  },
  {
   "cell_type": "code",
   "execution_count": 14,
   "metadata": {},
   "outputs": [],
   "source": [
    "gaussian_solvents_df = pd.read_csv(\"gaussian_solvents.csv\")"
   ]
  },
  {
   "cell_type": "markdown",
   "metadata": {},
   "source": [
    "Change name so that OPSIN can understand it"
   ]
  },
  {
   "cell_type": "code",
   "execution_count": 15,
   "metadata": {},
   "outputs": [],
   "source": [
    "gaussian_solvents_df.loc[gaussian_solvents_df[\"name\"] == \"a-ChloroToluene\", \"name\"] = \"alpha-ChloroToluene\""
   ]
  },
  {
   "cell_type": "markdown",
   "metadata": {},
   "source": [
    "Run Gaussian names through OPSIN to get SMILES"
   ]
  },
  {
   "cell_type": "code",
   "execution_count": 17,
   "metadata": {},
   "outputs": [],
   "source": [
    "with open(\"input.txt\", \"w\") as file:\n",
    "    for name in gaussian_solvents_df[\"name\"]:\n",
    "        file.write(name.replace(\"-mixture\", \"\") + \"\\n\")"
   ]
  },
  {
   "cell_type": "code",
   "execution_count": 21,
   "metadata": {},
   "outputs": [
    {
     "data": {
      "text/plain": [
       "CompletedProcess(args='java -jar opsin-2.4.0-jar-with-dependencies.jar -osmi input.txt output.txt', returncode=0)"
      ]
     },
     "execution_count": 21,
     "metadata": {},
     "output_type": "execute_result"
    }
   ],
   "source": [
    "subprocess.run(\"java -jar opsin-2.4.0-jar-with-dependencies.jar -osmi input.txt output.txt\", shell=True)"
   ]
  },
  {
   "cell_type": "markdown",
   "metadata": {},
   "source": [
    "Get InChIKeys"
   ]
  },
  {
   "cell_type": "code",
   "execution_count": 22,
   "metadata": {},
   "outputs": [],
   "source": [
    "smiles = open(\"output.txt\").readlines()"
   ]
  },
  {
   "cell_type": "code",
   "execution_count": 23,
   "metadata": {},
   "outputs": [
    {
     "data": {
      "text/plain": [
       "CompletedProcess(args='java -jar opsin-2.4.0-jar-with-dependencies.jar -ostdinchikey input.txt output.txt', returncode=0)"
      ]
     },
     "execution_count": 23,
     "metadata": {},
     "output_type": "execute_result"
    }
   ],
   "source": [
    "subprocess.run(\"java -jar opsin-2.4.0-jar-with-dependencies.jar -ostdinchikey input.txt output.txt\", shell=True)"
   ]
  },
  {
   "cell_type": "code",
   "execution_count": 24,
   "metadata": {},
   "outputs": [],
   "source": [
    "inchikey = open(\"output.txt\").readlines()"
   ]
  },
  {
   "cell_type": "markdown",
   "metadata": {},
   "source": [
    "Process data from OPSIN"
   ]
  },
  {
   "cell_type": "code",
   "execution_count": 25,
   "metadata": {},
   "outputs": [],
   "source": [
    "smiles = [line.strip() for line in smiles]\n",
    "inchikey = [line.strip() for line in inchikey]"
   ]
  },
  {
   "cell_type": "code",
   "execution_count": 26,
   "metadata": {},
   "outputs": [],
   "source": [
    "gaussian_solvents_df[\"smiles\"] = smiles\n",
    "gaussian_solvents_df[\"inchikey\"] = inchikey"
   ]
  },
  {
   "cell_type": "markdown",
   "metadata": {},
   "source": [
    "Write CSV file"
   ]
  },
  {
   "cell_type": "code",
   "execution_count": 27,
   "metadata": {},
   "outputs": [],
   "source": [
    "new_gaussian_solvents_df = gaussian_solvents_df[[\"inchikey\", \"smiles\", \"name\", \"epsilon\"]]\n",
    "new_gaussian_solvents_df[\"smiles\"] = new_gaussian_solvents_df[\"smiles\"].apply(Chem.MolFromSmiles).apply(Chem.MolToSmiles)\n",
    "new_gaussian_solvents_df = new_gaussian_solvents_df.drop_duplicates(\"inchikey\")"
   ]
  },
  {
   "cell_type": "code",
   "execution_count": 28,
   "metadata": {},
   "outputs": [],
   "source": [
    "new_gaussian_solvents_df.to_csv(\"final_gaussian_solvents.csv\", index=False)"
   ]
  },
  {
   "cell_type": "markdown",
   "metadata": {},
   "source": [
    "Write pickle file"
   ]
  },
  {
   "cell_type": "code",
   "execution_count": 29,
   "metadata": {},
   "outputs": [],
   "source": [
    "new_gaussian_solvents_df = new_gaussian_solvents_df.set_index(\"inchikey\")\n",
    "with open(\"gaussian_solvents.pickle\", \"wb\") as file:\n",
    "    pickle.dump(new_gaussian_solvents_df.to_dict('index'), file)"
   ]
  },
  {
   "cell_type": "markdown",
   "metadata": {},
   "source": [
    "# XTB solvents"
   ]
  },
  {
   "cell_type": "markdown",
   "metadata": {},
   "source": [
    "Read xtb solvents from text file"
   ]
  },
  {
   "cell_type": "code",
   "execution_count": 30,
   "metadata": {},
   "outputs": [],
   "source": [
    "lines = open(\"xtb_solvents.txt\").readlines()\n",
    "names = []\n",
    "epsilons = []\n",
    "for line in lines:\n",
    "    name = line.strip().split(\", \")[0]\n",
    "    names.append(name)\n",
    "    \n",
    "    epsilon = float(line.strip().split(\", \")[1])\n",
    "    epsilons.append(epsilon)"
   ]
  },
  {
   "cell_type": "code",
   "execution_count": 31,
   "metadata": {},
   "outputs": [],
   "source": [
    "trivial_names = [\"acetone\",\n",
    "                 \"acetonitrile\",\n",
    "                 \"dichloromethane\",\n",
    "                 \"chloroform\",\n",
    "                 \"carbon disulfide\",\n",
    "                 \"dimethyl formamide\",\n",
    "                 \"dimethyl sulfoxide\",\n",
    "                 \"diethyl ether\",\n",
    "                 \"water\",\n",
    "                 \"methanol\",\n",
    "                 \"n-hexane\",\n",
    "                 \"tetrahydrofuran\",\n",
    "                 \"toluene\",\n",
    "                ]"
   ]
  },
  {
   "cell_type": "markdown",
   "metadata": {},
   "source": [
    "Calculate SMILES and InChIKeys with OPSIN"
   ]
  },
  {
   "cell_type": "code",
   "execution_count": 33,
   "metadata": {},
   "outputs": [],
   "source": [
    "with open(\"input.txt\", \"w\") as file:\n",
    "    for name in trivial_names:\n",
    "        file.write(name.replace(\"-mixture\", \"\") + \"\\n\")\n",
    "subprocess.run(\"java -jar opsin-2.4.0-jar-with-dependencies.jar -osmi input.txt output.txt\", shell=True)        \n",
    "smiles = open(\"output.txt\").readlines()\n",
    "smiles = [line.strip() for line in smiles]\n",
    "\n",
    "subprocess.run(\"java -jar opsin-2.4.0-jar-with-dependencies.jar -ostdinchikey input.txt output.txt\", shell=True)        \n",
    "inchikey = open(\"output.txt\").readlines()\n",
    "inchikey = [line.strip() for line in inchikey]"
   ]
  },
  {
   "cell_type": "code",
   "execution_count": 34,
   "metadata": {},
   "outputs": [],
   "source": [
    "canonical_smiles = [Chem.MolToSmiles(Chem.MolFromSmiles(smiles)) for smiles in smiles]"
   ]
  },
  {
   "cell_type": "code",
   "execution_count": 35,
   "metadata": {},
   "outputs": [],
   "source": [
    "xtb_df = pd.DataFrame({\"inchikey\": inchikey, \"smiles\": canonical_smiles, \"name\": names, \"epsilon\": epsilons})"
   ]
  },
  {
   "cell_type": "markdown",
   "metadata": {},
   "source": [
    "Write to CSV"
   ]
  },
  {
   "cell_type": "code",
   "execution_count": 36,
   "metadata": {},
   "outputs": [],
   "source": [
    "xtb_df.to_csv(\"xtb_solvents.csv\", index=False)"
   ]
  },
  {
   "cell_type": "markdown",
   "metadata": {},
   "source": [
    "Write to Pickle"
   ]
  },
  {
   "cell_type": "code",
   "execution_count": 37,
   "metadata": {},
   "outputs": [],
   "source": [
    "xtb_df_for_dict = xtb_df.set_index(\"inchikey\")\n",
    "with open(\"xtb_solvents.pickle\", \"wb\") as file:\n",
    "    pickle.dump(xtb_df_for_dict.to_dict('index'), file)"
   ]
  },
  {
   "cell_type": "markdown",
   "metadata": {},
   "source": [
    "# Epsilons and HB properties"
   ]
  },
  {
   "cell_type": "markdown",
   "metadata": {},
   "source": [
    "Read data on epsilons and hydrogen bonding properties"
   ]
  },
  {
   "cell_type": "code",
   "execution_count": 39,
   "metadata": {},
   "outputs": [],
   "source": [
    "df = pd.read_csv(\"epsilons_and_hb.csv\")"
   ]
  },
  {
   "cell_type": "markdown",
   "metadata": {},
   "source": [
    "Canonicalize SMILES and get InChIKeys"
   ]
  },
  {
   "cell_type": "code",
   "execution_count": 40,
   "metadata": {},
   "outputs": [],
   "source": [
    "df[\"csmiles\"] = df[\"SMILES\"].apply(Chem.MolFromSmiles).apply(Chem.MolToSmiles)\n",
    "df[\"inchikey\"] = df[\"SMILES\"].apply(Chem.MolFromSmiles).apply(Chem.MolToInchiKey)"
   ]
  },
  {
   "cell_type": "code",
   "execution_count": 41,
   "metadata": {},
   "outputs": [],
   "source": [
    "out_df = df[[\"inchikey\", \"csmiles\", \"Name\", \"Dielectric\", \"Abraham AH\", \"Abraham BH\"]]\n",
    "out_df.columns = [\"inchikey\", \"smiles\", \"name\", \"epsilon\", \"h_acidity\", \"h_basicity\"]\n",
    "out_df = out_df.drop_duplicates(\"inchikey\")"
   ]
  },
  {
   "cell_type": "markdown",
   "metadata": {},
   "source": [
    "Write epsilons to file"
   ]
  },
  {
   "cell_type": "code",
   "execution_count": 42,
   "metadata": {},
   "outputs": [],
   "source": [
    "out_df_epsilon = out_df[[\"inchikey\", \"smiles\", \"name\", \"epsilon\"]]\n",
    "out_df_epsilon = out_df_epsilon.dropna()"
   ]
  },
  {
   "cell_type": "code",
   "execution_count": 43,
   "metadata": {},
   "outputs": [],
   "source": [
    "out_df_epsilon = out_df_epsilon.set_index(\"inchikey\")\n",
    "out_df_epsilon.to_csv(\"final_epsilon.csv\")"
   ]
  },
  {
   "cell_type": "code",
   "execution_count": 44,
   "metadata": {},
   "outputs": [],
   "source": [
    "with open(\"epsilon.pickle\", \"wb\") as file:\n",
    "    pickle.dump(out_df_epsilon.to_dict('index'), file)"
   ]
  },
  {
   "cell_type": "markdown",
   "metadata": {},
   "source": [
    "Write out epsilons + h-bonding to file"
   ]
  },
  {
   "cell_type": "code",
   "execution_count": 45,
   "metadata": {},
   "outputs": [],
   "source": [
    "out_df_h = out_df.copy()\n",
    "out_df_h.dropna(inplace=True)"
   ]
  },
  {
   "cell_type": "markdown",
   "metadata": {},
   "source": [
    "Standardize data so that meaningful distances can be computed later"
   ]
  },
  {
   "cell_type": "code",
   "execution_count": 47,
   "metadata": {},
   "outputs": [],
   "source": [
    "std_scale = StandardScaler().fit(out_df_h[['epsilon', 'h_acidity', 'h_basicity']])\n",
    "out_df_h[['epsilon', 'h_acidity', 'h_basicity']] = std_scale.transform(out_df_h[['epsilon', 'h_acidity', 'h_basicity']])"
   ]
  },
  {
   "cell_type": "code",
   "execution_count": 48,
   "metadata": {},
   "outputs": [],
   "source": [
    "out_df_h = out_df_h.set_index(\"inchikey\")\n",
    "out_df_h.to_csv(\"final_epsilon_h.csv\")"
   ]
  },
  {
   "cell_type": "code",
   "execution_count": 50,
   "metadata": {},
   "outputs": [],
   "source": [
    "with open(\"epsilon_h.pickle\", \"wb\") as file:\n",
    "    pickle.dump(out_df_h.to_dict('index'), file)"
   ]
  }
 ],
 "metadata": {
  "kernelspec": {
   "display_name": "Python [conda env:rdkit-env]",
   "language": "python",
   "name": "conda-env-rdkit-env-py"
  },
  "language_info": {
   "codemirror_mode": {
    "name": "ipython",
    "version": 3
   },
   "file_extension": ".py",
   "mimetype": "text/x-python",
   "name": "python",
   "nbconvert_exporter": "python",
   "pygments_lexer": "ipython3",
   "version": "3.7.4"
  }
 },
 "nbformat": 4,
 "nbformat_minor": 4
}
