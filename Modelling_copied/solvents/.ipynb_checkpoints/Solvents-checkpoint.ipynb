{
 "cells": [
  {
   "cell_type": "code",
   "execution_count": 3,
   "metadata": {},
   "outputs": [],
   "source": [
    "from rdkit import Chem\n",
    "from rdkit.Chem import AllChem\n",
    "from rdkit.Chem.Draw import IPythonConsole\n",
    "import pandas as pd\n",
    "from sklearn.preprocessing import StandardScaler\n",
    "from scipy.spatial.distance import cdist\n",
    "import numpy as np\n",
    "import pickle\n",
    "import subprocess"
   ]
  },
  {
   "cell_type": "markdown",
   "metadata": {},
   "source": [
    "# David Hose's solvents"
   ]
  },
  {
   "cell_type": "code",
   "execution_count": 41,
   "metadata": {},
   "outputs": [],
   "source": [
    "df = pd.read_csv(\"DH_solvents.csv\")"
   ]
  },
  {
   "cell_type": "code",
   "execution_count": 42,
   "metadata": {},
   "outputs": [],
   "source": [
    "df[\"inchikey\"] = df[\"SMILES\"].apply(Chem.MolFromSmiles).apply(Chem.MolToInchiKey)\n",
    "df[\"smiles\"] = df[\"SMILES\"].apply(Chem.MolFromSmiles).apply(Chem.MolToSmiles)"
   ]
  },
  {
   "cell_type": "code",
   "execution_count": 43,
   "metadata": {},
   "outputs": [],
   "source": [
    "out_df = df[[\"inchikey\", \"smiles\", \"Name\", \"PC1\", \"PC2\", \"PC3\", \"PC4\", \"PC5\"]]\n",
    "out_df.columns = [\"inchikey\", \"smiles\", \"name\", \"pc_1\", \"pc_2\", \"pc_3\", \"pc_4\", \"pc_5\"]\n",
    "out_df = out_df.drop_duplicates(\"inchikey\")\n",
    "out_df.to_csv(\"solvents.csv\", index=False)"
   ]
  },
  {
   "cell_type": "code",
   "execution_count": 44,
   "metadata": {},
   "outputs": [],
   "source": [
    "out_df = out_df.set_index(\"inchikey\")"
   ]
  },
  {
   "cell_type": "code",
   "execution_count": 45,
   "metadata": {},
   "outputs": [],
   "source": [
    "with open(\"solvents.pickle\", \"wb\") as file:\n",
    "    pickle.dump(out_df.to_dict('index'), file)"
   ]
  },
  {
   "cell_type": "markdown",
   "metadata": {},
   "source": [
    "# Standard states"
   ]
  },
  {
   "cell_type": "code",
   "execution_count": 4,
   "metadata": {},
   "outputs": [],
   "source": [
    "df = pd.read_csv(\"standard_states.csv\")"
   ]
  },
  {
   "cell_type": "code",
   "execution_count": 5,
   "metadata": {},
   "outputs": [],
   "source": [
    "df[\"csmiles\"] = df[\"smiles\"].apply(Chem.MolFromSmiles).apply(Chem.MolToSmiles)\n",
    "df[\"inchikey\"] = df[\"smiles\"].apply(Chem.MolFromSmiles).apply(Chem.MolToInchiKey)"
   ]
  },
  {
   "cell_type": "code",
   "execution_count": 6,
   "metadata": {},
   "outputs": [],
   "source": [
    "out_df = df[[\"inchikey\", \"csmiles\", \"name\", \"standard_state\", \"molar_volume\"]]\n",
    "out_df.columns = [\"inchikey\", \"smiles\", \"name\", \"standard_state\", \"molar_volume\"]\n",
    "out_df = out_df.drop_duplicates(\"inchikey\")\n",
    "out_df = out_df.set_index(\"inchikey\")"
   ]
  },
  {
   "cell_type": "code",
   "execution_count": 7,
   "metadata": {},
   "outputs": [],
   "source": [
    "with open(\"standard_states.pickle\", \"wb\") as file:\n",
    "    pickle.dump(out_df.to_dict('index'), file)"
   ]
  },
  {
   "cell_type": "code",
   "execution_count": 8,
   "metadata": {},
   "outputs": [],
   "source": [
    "with open(\"standard_states.pickle\", \"rb\") as file:\n",
    "    d = pickle.load(file)"
   ]
  },
  {
   "cell_type": "markdown",
   "metadata": {},
   "source": [
    "# Gaussian solvents"
   ]
  },
  {
   "cell_type": "code",
   "execution_count": 53,
   "metadata": {},
   "outputs": [],
   "source": [
    "gaussian_solvents_df = pd.read_csv(\"gaussian_solvents.csv\")"
   ]
  },
  {
   "cell_type": "code",
   "execution_count": 54,
   "metadata": {},
   "outputs": [],
   "source": [
    "gaussian_solvents_df.loc[gaussian_solvents_df[\"name\"] == \"a-ChloroToluene\", \"name\"] = \"alpha-ChloroToluene\""
   ]
  },
  {
   "cell_type": "code",
   "execution_count": 55,
   "metadata": {},
   "outputs": [],
   "source": [
    "with open(\"input.txt\", \"w\") as file:\n",
    "    for name in gaussian_solvents_df[\"name\"]:\n",
    "        file.write(name.replace(\"-mixture\", \"\") + \"\\n\")"
   ]
  },
  {
   "cell_type": "code",
   "execution_count": 56,
   "metadata": {},
   "outputs": [
    {
     "data": {
      "text/plain": [
       "CompletedProcess(args='java -jar opsin-2.4.0-jar-with-dependencies.jar -osmi input.txt output.txt', returncode=0)"
      ]
     },
     "execution_count": 56,
     "metadata": {},
     "output_type": "execute_result"
    }
   ],
   "source": [
    "subprocess.run(\"java -jar opsin-2.4.0-jar-with-dependencies.jar -osmi input.txt output.txt\", shell=True)"
   ]
  },
  {
   "cell_type": "code",
   "execution_count": 57,
   "metadata": {},
   "outputs": [],
   "source": [
    "smiles = open(\"output.txt\").readlines()"
   ]
  },
  {
   "cell_type": "code",
   "execution_count": 58,
   "metadata": {},
   "outputs": [
    {
     "data": {
      "text/plain": [
       "CompletedProcess(args='java -jar opsin-2.4.0-jar-with-dependencies.jar -ostdinchikey input.txt output.txt', returncode=0)"
      ]
     },
     "execution_count": 58,
     "metadata": {},
     "output_type": "execute_result"
    }
   ],
   "source": [
    "subprocess.run(\"java -jar opsin-2.4.0-jar-with-dependencies.jar -ostdinchikey input.txt output.txt\", shell=True)"
   ]
  },
  {
   "cell_type": "code",
   "execution_count": 59,
   "metadata": {},
   "outputs": [],
   "source": [
    "inchikey = open(\"output.txt\").readlines()"
   ]
  },
  {
   "cell_type": "code",
   "execution_count": 60,
   "metadata": {},
   "outputs": [],
   "source": [
    "smiles = [line.strip() for line in smiles]\n",
    "inchikey = [line.strip() for line in inchikey]"
   ]
  },
  {
   "cell_type": "code",
   "execution_count": 61,
   "metadata": {},
   "outputs": [],
   "source": [
    "gaussian_solvents_df[\"smiles\"] = smiles\n",
    "gaussian_solvents_df[\"inchikey\"] = inchikey"
   ]
  },
  {
   "cell_type": "code",
   "execution_count": 62,
   "metadata": {},
   "outputs": [],
   "source": [
    "new_gaussian_solvents_df = gaussian_solvents_df[[\"inchikey\", \"smiles\", \"name\", \"epsilon\"]]\n",
    "new_gaussian_solvents_df[\"smiles\"] = new_gaussian_solvents_df[\"smiles\"].apply(Chem.MolFromSmiles).apply(Chem.MolToSmiles)\n",
    "new_gaussian_solvents_df = new_gaussian_solvents_df.drop_duplicates(\"inchikey\")"
   ]
  },
  {
   "cell_type": "code",
   "execution_count": 63,
   "metadata": {},
   "outputs": [],
   "source": [
    "new_gaussian_solvents_df.to_csv(\"final_gaussian_solvents.csv\", index=False)"
   ]
  },
  {
   "cell_type": "code",
   "execution_count": 64,
   "metadata": {},
   "outputs": [],
   "source": [
    "new_gaussian_solvents_df = new_gaussian_solvents_df.set_index(\"inchikey\")\n",
    "with open(\"gaussian_solvents.pickle\", \"wb\") as file:\n",
    "    pickle.dump(new_gaussian_solvents_df.to_dict('index'), file)"
   ]
  },
  {
   "cell_type": "code",
   "execution_count": 65,
   "metadata": {},
   "outputs": [],
   "source": [
    "with open(\"gaussian_solvents.pickle\", \"rb\") as file:\n",
    "    d = pickle.load(file)"
   ]
  },
  {
   "cell_type": "code",
   "execution_count": 101,
   "metadata": {},
   "outputs": [
    {
     "data": {
      "text/plain": [
       "{'smiles': 'CC#N',\n",
       " 'name': 'Acetonitrile',\n",
       " 'epsilon': 0.7146352376009412,\n",
       " 'h_acidity': -0.2014022187135757,\n",
       " 'h_basicity': -0.18566352217102094}"
      ]
     },
     "execution_count": 101,
     "metadata": {},
     "output_type": "execute_result"
    }
   ],
   "source": [
    "d[b\"WEVYAHXRMPXWCK-UHFFFAOYSA-N\".decode()]"
   ]
  },
  {
   "cell_type": "markdown",
   "metadata": {},
   "source": [
    "# XTB solvents"
   ]
  },
  {
   "cell_type": "code",
   "execution_count": 69,
   "metadata": {},
   "outputs": [],
   "source": [
    "lines = open(\"xtb_solvents.txt\").readlines()\n",
    "names = []\n",
    "epsilons = []\n",
    "for line in lines:\n",
    "    name = line.strip().split(\", \")[0]\n",
    "    names.append(name)\n",
    "    \n",
    "    epsilon = float(line.strip().split(\", \")[1])\n",
    "    epsilons.append(epsilon)"
   ]
  },
  {
   "cell_type": "code",
   "execution_count": 70,
   "metadata": {},
   "outputs": [],
   "source": [
    "trivial_names = [\"acetone\",\n",
    "                 \"acetonitrile\",\n",
    "                 \"dichloromethane\",\n",
    "                 \"chloroform\",\n",
    "                 \"carbon disulfide\",\n",
    "                 \"dimethyl formamide\",\n",
    "                 \"dimethyl sulfoxide\",\n",
    "                 \"diethyl ether\",\n",
    "                 \"water\",\n",
    "                 \"methanol\",\n",
    "                 \"n-hexane\",\n",
    "                 \"tetrahydrofuran\",\n",
    "                 \"toluene\",\n",
    "                ]"
   ]
  },
  {
   "cell_type": "code",
   "execution_count": 71,
   "metadata": {},
   "outputs": [],
   "source": [
    "with open(\"input.txt\", \"w\") as file:\n",
    "    for name in trivial_names:\n",
    "        file.write(name.replace(\"-mixture\", \"\") + \"\\n\")\n",
    "subprocess.run(\"java -jar opsin-2.4.0-jar-with-dependencies.jar -osmi input.txt output.txt\", shell=True)        \n",
    "smiles = open(\"output.txt\").readlines()\n",
    "smiles = [line.strip() for line in smiles]\n",
    "\n",
    "subprocess.run(\"java -jar opsin-2.4.0-jar-with-dependencies.jar -ostdinchikey input.txt output.txt\", shell=True)        \n",
    "inchikey = open(\"output.txt\").readlines()\n",
    "inchikey = [line.strip() for line in inchikey]"
   ]
  },
  {
   "cell_type": "code",
   "execution_count": 72,
   "metadata": {},
   "outputs": [],
   "source": [
    "canonical_smiles = [Chem.MolToSmiles(Chem.MolFromSmiles(smiles)) for smiles in smiles]"
   ]
  },
  {
   "cell_type": "code",
   "execution_count": 73,
   "metadata": {},
   "outputs": [],
   "source": [
    "xtb_df = pd.DataFrame({\"inchikey\": inchikey, \"smiles\": canonical_smiles, \"name\": names, \"epsilon\": epsilons})"
   ]
  },
  {
   "cell_type": "code",
   "execution_count": 97,
   "metadata": {},
   "outputs": [
    {
     "data": {
      "text/plain": [
       "'WEVYAHXRMPXWCK-UHFFFAOYSA-N'"
      ]
     },
     "execution_count": 97,
     "metadata": {},
     "output_type": "execute_result"
    }
   ],
   "source": [
    "Chem.MolToInchiKey(Chem.MolFromSmiles(\"CC#N\"))"
   ]
  },
  {
   "cell_type": "code",
   "execution_count": 75,
   "metadata": {},
   "outputs": [
    {
     "data": {
      "text/html": [
       "<div>\n",
       "<style scoped>\n",
       "    .dataframe tbody tr th:only-of-type {\n",
       "        vertical-align: middle;\n",
       "    }\n",
       "\n",
       "    .dataframe tbody tr th {\n",
       "        vertical-align: top;\n",
       "    }\n",
       "\n",
       "    .dataframe thead th {\n",
       "        text-align: right;\n",
       "    }\n",
       "</style>\n",
       "<table border=\"1\" class=\"dataframe\">\n",
       "  <thead>\n",
       "    <tr style=\"text-align: right;\">\n",
       "      <th></th>\n",
       "      <th>inchikey</th>\n",
       "      <th>smiles</th>\n",
       "      <th>name</th>\n",
       "      <th>epsilon</th>\n",
       "    </tr>\n",
       "  </thead>\n",
       "  <tbody>\n",
       "    <tr>\n",
       "      <th>0</th>\n",
       "      <td>CSCPPACGZOOCGX-UHFFFAOYSA-N</td>\n",
       "      <td>CC(C)=O</td>\n",
       "      <td>acetone</td>\n",
       "      <td>20.70</td>\n",
       "    </tr>\n",
       "    <tr>\n",
       "      <th>1</th>\n",
       "      <td>WEVYAHXRMPXWCK-UHFFFAOYSA-N</td>\n",
       "      <td>CC#N</td>\n",
       "      <td>acetonitrile</td>\n",
       "      <td>37.50</td>\n",
       "    </tr>\n",
       "    <tr>\n",
       "      <th>2</th>\n",
       "      <td>YMWUJEATGCHHMB-UHFFFAOYSA-N</td>\n",
       "      <td>ClCCl</td>\n",
       "      <td>ch2cl2</td>\n",
       "      <td>8.93</td>\n",
       "    </tr>\n",
       "    <tr>\n",
       "      <th>3</th>\n",
       "      <td>HEDRZPFGACZZDS-UHFFFAOYSA-N</td>\n",
       "      <td>ClC(Cl)Cl</td>\n",
       "      <td>chcl3</td>\n",
       "      <td>4.81</td>\n",
       "    </tr>\n",
       "    <tr>\n",
       "      <th>4</th>\n",
       "      <td>QGJOPFRUJISHPQ-UHFFFAOYSA-N</td>\n",
       "      <td>S=C=S</td>\n",
       "      <td>cs2</td>\n",
       "      <td>2.64</td>\n",
       "    </tr>\n",
       "    <tr>\n",
       "      <th>5</th>\n",
       "      <td>ZMXDDKWLCZADIW-UHFFFAOYSA-N</td>\n",
       "      <td>CN(C)C=O</td>\n",
       "      <td>dmf</td>\n",
       "      <td>37.00</td>\n",
       "    </tr>\n",
       "    <tr>\n",
       "      <th>6</th>\n",
       "      <td>IAZDPXIOMUYVGZ-UHFFFAOYSA-N</td>\n",
       "      <td>CS(C)=O</td>\n",
       "      <td>dmso</td>\n",
       "      <td>46.68</td>\n",
       "    </tr>\n",
       "    <tr>\n",
       "      <th>7</th>\n",
       "      <td>RTZKZFJDLAIYFH-UHFFFAOYSA-N</td>\n",
       "      <td>CCOCC</td>\n",
       "      <td>ether</td>\n",
       "      <td>4.33</td>\n",
       "    </tr>\n",
       "    <tr>\n",
       "      <th>8</th>\n",
       "      <td>XLYOFNOQVPJJNP-UHFFFAOYSA-N</td>\n",
       "      <td>O</td>\n",
       "      <td>water</td>\n",
       "      <td>80.20</td>\n",
       "    </tr>\n",
       "    <tr>\n",
       "      <th>9</th>\n",
       "      <td>OKKJLVBELUTLKV-UHFFFAOYSA-N</td>\n",
       "      <td>CO</td>\n",
       "      <td>methanol</td>\n",
       "      <td>32.70</td>\n",
       "    </tr>\n",
       "    <tr>\n",
       "      <th>10</th>\n",
       "      <td>VLKZOEOYAKHREP-UHFFFAOYSA-N</td>\n",
       "      <td>CCCCCC</td>\n",
       "      <td>n-hexane</td>\n",
       "      <td>1.88</td>\n",
       "    </tr>\n",
       "    <tr>\n",
       "      <th>11</th>\n",
       "      <td>WYURNTSHIVDZCO-UHFFFAOYSA-N</td>\n",
       "      <td>C1CCOC1</td>\n",
       "      <td>thf</td>\n",
       "      <td>7.60</td>\n",
       "    </tr>\n",
       "    <tr>\n",
       "      <th>12</th>\n",
       "      <td>YXFVVABEGXRONW-UHFFFAOYSA-N</td>\n",
       "      <td>Cc1ccccc1</td>\n",
       "      <td>toluene</td>\n",
       "      <td>7.00</td>\n",
       "    </tr>\n",
       "  </tbody>\n",
       "</table>\n",
       "</div>"
      ],
      "text/plain": [
       "                       inchikey     smiles          name  epsilon\n",
       "0   CSCPPACGZOOCGX-UHFFFAOYSA-N    CC(C)=O       acetone    20.70\n",
       "1   WEVYAHXRMPXWCK-UHFFFAOYSA-N       CC#N  acetonitrile    37.50\n",
       "2   YMWUJEATGCHHMB-UHFFFAOYSA-N      ClCCl        ch2cl2     8.93\n",
       "3   HEDRZPFGACZZDS-UHFFFAOYSA-N  ClC(Cl)Cl         chcl3     4.81\n",
       "4   QGJOPFRUJISHPQ-UHFFFAOYSA-N      S=C=S           cs2     2.64\n",
       "5   ZMXDDKWLCZADIW-UHFFFAOYSA-N   CN(C)C=O           dmf    37.00\n",
       "6   IAZDPXIOMUYVGZ-UHFFFAOYSA-N    CS(C)=O          dmso    46.68\n",
       "7   RTZKZFJDLAIYFH-UHFFFAOYSA-N      CCOCC         ether     4.33\n",
       "8   XLYOFNOQVPJJNP-UHFFFAOYSA-N          O         water    80.20\n",
       "9   OKKJLVBELUTLKV-UHFFFAOYSA-N         CO      methanol    32.70\n",
       "10  VLKZOEOYAKHREP-UHFFFAOYSA-N     CCCCCC      n-hexane     1.88\n",
       "11  WYURNTSHIVDZCO-UHFFFAOYSA-N    C1CCOC1           thf     7.60\n",
       "12  YXFVVABEGXRONW-UHFFFAOYSA-N  Cc1ccccc1       toluene     7.00"
      ]
     },
     "execution_count": 75,
     "metadata": {},
     "output_type": "execute_result"
    }
   ],
   "source": [
    "xtb_df"
   ]
  },
  {
   "cell_type": "code",
   "execution_count": 76,
   "metadata": {},
   "outputs": [],
   "source": [
    "xtb_df.to_csv(\"xtb_solvents.csv\", index=False)"
   ]
  },
  {
   "cell_type": "code",
   "execution_count": 77,
   "metadata": {},
   "outputs": [],
   "source": [
    "xtb_df_for_dict = xtb_df.set_index(\"inchikey\")\n",
    "with open(\"xtb_solvents.pickle\", \"wb\") as file:\n",
    "    pickle.dump(xtb_df_for_dict.to_dict('index'), file)"
   ]
  },
  {
   "cell_type": "markdown",
   "metadata": {},
   "source": [
    "# Epsilons and HB properties"
   ]
  },
  {
   "cell_type": "code",
   "execution_count": 85,
   "metadata": {},
   "outputs": [],
   "source": [
    "df = pd.read_csv(\"epsilons_and_hb.csv\")"
   ]
  },
  {
   "cell_type": "code",
   "execution_count": 86,
   "metadata": {},
   "outputs": [],
   "source": [
    "df[\"csmiles\"] = df[\"SMILES\"].apply(Chem.MolFromSmiles).apply(Chem.MolToSmiles)\n",
    "df[\"inchikey\"] = df[\"SMILES\"].apply(Chem.MolFromSmiles).apply(Chem.MolToInchiKey)"
   ]
  },
  {
   "cell_type": "code",
   "execution_count": 87,
   "metadata": {},
   "outputs": [],
   "source": [
    "out_df = df[[\"inchikey\", \"csmiles\", \"Name\", \"Dielectric\", \"Abraham AH\", \"Abraham BH\"]]\n",
    "out_df.columns = [\"inchikey\", \"smiles\", \"name\", \"epsilon\", \"h_acidity\", \"h_basicity\"]\n",
    "out_df = out_df.drop_duplicates(\"inchikey\")"
   ]
  },
  {
   "cell_type": "markdown",
   "metadata": {},
   "source": [
    "### Write out epsilons"
   ]
  },
  {
   "cell_type": "code",
   "execution_count": 88,
   "metadata": {},
   "outputs": [],
   "source": [
    "out_df_epsilon = out_df[[\"inchikey\", \"smiles\", \"name\", \"epsilon\"]]\n",
    "out_df_epsilon = out_df_epsilon.dropna()"
   ]
  },
  {
   "cell_type": "code",
   "execution_count": 89,
   "metadata": {},
   "outputs": [],
   "source": [
    "out_df_epsilon = out_df_epsilon.set_index(\"inchikey\")\n",
    "out_df_epsilon.to_csv(\"final_epsilon.csv\")"
   ]
  },
  {
   "cell_type": "code",
   "execution_count": 90,
   "metadata": {},
   "outputs": [],
   "source": [
    "with open(\"epsilon.pickle\", \"wb\") as file:\n",
    "    pickle.dump(out_df_epsilon.to_dict('index'), file)"
   ]
  },
  {
   "cell_type": "code",
   "execution_count": 91,
   "metadata": {},
   "outputs": [],
   "source": [
    "with open(\"epsilon.pickle\", \"rb\") as file:\n",
    "    d = pickle.load(file)"
   ]
  },
  {
   "cell_type": "markdown",
   "metadata": {},
   "source": [
    "### Write out epsilons + h-bonding"
   ]
  },
  {
   "cell_type": "code",
   "execution_count": 92,
   "metadata": {},
   "outputs": [],
   "source": [
    "out_df_h = out_df.copy()\n",
    "out_df_h.dropna(inplace=True)"
   ]
  },
  {
   "cell_type": "code",
   "execution_count": 93,
   "metadata": {},
   "outputs": [],
   "source": [
    "std_scale = StandardScaler().fit(out_df_h[['epsilon', 'h_acidity', 'h_basicity']])\n",
    "out_df_h[['epsilon', 'h_acidity', 'h_basicity']] = std_scale.transform(out_df_h[['epsilon', 'h_acidity', 'h_basicity']])"
   ]
  },
  {
   "cell_type": "code",
   "execution_count": 94,
   "metadata": {},
   "outputs": [],
   "source": [
    "out_df_h = out_df_h.set_index(\"inchikey\")\n",
    "out_df_h.to_csv(\"final_epsilon_h.csv\")"
   ]
  },
  {
   "cell_type": "code",
   "execution_count": 95,
   "metadata": {},
   "outputs": [],
   "source": [
    "with open(\"epsilon_h.pickle\", \"wb\") as file:\n",
    "    pickle.dump(out_df_h.to_dict('index'), file)"
   ]
  },
  {
   "cell_type": "code",
   "execution_count": 96,
   "metadata": {},
   "outputs": [],
   "source": [
    "with open(\"epsilon_h.pickle\", \"rb\") as file:\n",
    "    d = pickle.load(file)"
   ]
  },
  {
   "cell_type": "code",
   "execution_count": 102,
   "metadata": {},
   "outputs": [
    {
     "data": {
      "text/plain": [
       "'RGSFGYAAUTVSQA-UHFFFAOYSA-N'"
      ]
     },
     "execution_count": 102,
     "metadata": {},
     "output_type": "execute_result"
    }
   ],
   "source": [
    "Chem.MolToInchiKey(Chem.MolFromSmiles(\"C1CCCC1\"))"
   ]
  },
  {
   "cell_type": "code",
   "execution_count": null,
   "metadata": {},
   "outputs": [],
   "source": []
  }
 ],
 "metadata": {
  "kernelspec": {
   "display_name": "Python [conda env:rdkit-env]",
   "language": "python",
   "name": "conda-env-rdkit-env-py"
  },
  "language_info": {
   "codemirror_mode": {
    "name": "ipython",
    "version": 3
   },
   "file_extension": ".py",
   "mimetype": "text/x-python",
   "name": "python",
   "nbconvert_exporter": "python",
   "pygments_lexer": "ipython3",
   "version": "3.7.4"
  }
 },
 "nbformat": 4,
 "nbformat_minor": 4
}
